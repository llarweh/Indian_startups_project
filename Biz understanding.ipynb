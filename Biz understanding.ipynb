{
 "cells": [
  {
   "cell_type": "markdown",
   "id": "0906f703",
   "metadata": {},
   "source": [
    "### Introduction\n",
    "Analyzing funding received by start-ups in India from 2018 to 2021"
   ]
  },
  {
   "cell_type": "markdown",
   "id": "fab69e91",
   "metadata": {},
   "source": [
    "### Business Understanding\n",
    "The Indian start-up ecosystem is a competitive and fast-growing industry that offers potential investment and innovation opportunities. Understanding the industry trends and patterns is essential to making well informed investment decisions and achieving success."
   ]
  },
  {
   "cell_type": "markdown",
   "id": "1e620283",
   "metadata": {},
   "source": [
    "### Hypothesis\n",
    "Null Hypothesis:\n",
    "Start-ups in the technology sector are more likely to secure higher funding\n",
    "\n",
    "Alternate Hypothesis:\n",
    "Start-ups in the technology sector are not necessarily likely to secure higher funding"
   ]
  },
  {
   "cell_type": "markdown",
   "id": "d7e8d255",
   "metadata": {},
   "source": [
    "### Questions\n",
    "1. What is the trend in value of Indian start-up funding over the years? \n",
    "2. Has the trend in the number of Indian start-ups increased or decreased over the years?\n",
    "3. Which industries have the highest number of start-ups?\n",
    "4. Which industries have received the highest funding amounts?\n",
    "5. What is the average funding amount for Indian start-ups?\n",
    "6. Are there any correlations between headquarters location and share of funding?"
   ]
  }
 ],
 "metadata": {
  "kernelspec": {
   "display_name": "Python 3 (ipykernel)",
   "language": "python",
   "name": "python3"
  },
  "language_info": {
   "codemirror_mode": {
    "name": "ipython",
    "version": 3
   },
   "file_extension": ".py",
   "mimetype": "text/x-python",
   "name": "python",
   "nbconvert_exporter": "python",
   "pygments_lexer": "ipython3",
   "version": "3.11.2"
  }
 },
 "nbformat": 4,
 "nbformat_minor": 5
}
