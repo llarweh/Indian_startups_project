{
 "cells": [
  {
   "cell_type": "code",
   "execution_count": 38,
   "id": "f6c889bc",
   "metadata": {},
   "outputs": [],
   "source": [
    "import pandas as pd\n",
    "import matplotlib.pyplot as plt\n",
    "import statsmodels.api as sn\n",
    "from statsmodels.formula.api import ols"
   ]
  },
  {
   "cell_type": "code",
   "execution_count": 4,
   "id": "dd8a05e3",
   "metadata": {},
   "outputs": [],
   "source": [
    "df = pd.read_excel(\"cleaned 2018.xlsx\")"
   ]
  },
  {
   "cell_type": "markdown",
   "id": "e3bc8f47",
   "metadata": {},
   "source": [
    "## Hypothesis"
   ]
  },
  {
   "cell_type": "markdown",
   "id": "97df184e",
   "metadata": {},
   "source": [
    "### Ho : There is no significant difference between City and Amount\n",
    "### H1 : There is  significant difference between City and Amount"
   ]
  },
  {
   "cell_type": "code",
   "execution_count": 42,
   "id": "c757d709",
   "metadata": {},
   "outputs": [],
   "source": [
    "df.rename(columns={ \"Amount($)\": \"Amount\"}, inplace=True)"
   ]
  },
  {
   "cell_type": "markdown",
   "id": "70bc2b47",
   "metadata": {},
   "source": [
    "### In order to perform anova hypothesis, The column \"city\" needs to be converted to numerical representation"
   ]
  },
  {
   "cell_type": "code",
   "execution_count": 25,
   "id": "3614c9f5",
   "metadata": {},
   "outputs": [],
   "source": [
    "df.City = df.City.astype(\"category\")"
   ]
  },
  {
   "cell_type": "code",
   "execution_count": 26,
   "id": "e3f21f64",
   "metadata": {},
   "outputs": [],
   "source": [
    "df['City_Cat'] = df['City'].cat.codes"
   ]
  },
  {
   "cell_type": "markdown",
   "id": "b62b424e",
   "metadata": {},
   "source": [
    "### Test using anova"
   ]
  },
  {
   "cell_type": "code",
   "execution_count": 36,
   "id": "8f0c1646",
   "metadata": {},
   "outputs": [],
   "source": [
    "new = ols(\"Amount ~ City_Cat\", data=df).fit()"
   ]
  },
  {
   "cell_type": "code",
   "execution_count": 40,
   "id": "5677b751",
   "metadata": {},
   "outputs": [],
   "source": [
    "an = sn.stats.anova_lm(new, typ = 2)"
   ]
  },
  {
   "cell_type": "code",
   "execution_count": 43,
   "id": "c5b36e13",
   "metadata": {},
   "outputs": [
    {
     "data": {
      "text/html": [
       "<div>\n",
       "<style scoped>\n",
       "    .dataframe tbody tr th:only-of-type {\n",
       "        vertical-align: middle;\n",
       "    }\n",
       "\n",
       "    .dataframe tbody tr th {\n",
       "        vertical-align: top;\n",
       "    }\n",
       "\n",
       "    .dataframe thead th {\n",
       "        text-align: right;\n",
       "    }\n",
       "</style>\n",
       "<table border=\"1\" class=\"dataframe\">\n",
       "  <thead>\n",
       "    <tr style=\"text-align: right;\">\n",
       "      <th></th>\n",
       "      <th>sum_sq</th>\n",
       "      <th>df</th>\n",
       "      <th>F</th>\n",
       "      <th>PR(&gt;F)</th>\n",
       "    </tr>\n",
       "  </thead>\n",
       "  <tbody>\n",
       "    <tr>\n",
       "      <th>City_Cat</th>\n",
       "      <td>1.446466e+18</td>\n",
       "      <td>1.0</td>\n",
       "      <td>1.055931</td>\n",
       "      <td>0.30462</td>\n",
       "    </tr>\n",
       "    <tr>\n",
       "      <th>Residual</th>\n",
       "      <td>7.164311e+20</td>\n",
       "      <td>523.0</td>\n",
       "      <td>NaN</td>\n",
       "      <td>NaN</td>\n",
       "    </tr>\n",
       "  </tbody>\n",
       "</table>\n",
       "</div>"
      ],
      "text/plain": [
       "                sum_sq     df         F   PR(>F)\n",
       "City_Cat  1.446466e+18    1.0  1.055931  0.30462\n",
       "Residual  7.164311e+20  523.0       NaN      NaN"
      ]
     },
     "execution_count": 43,
     "metadata": {},
     "output_type": "execute_result"
    }
   ],
   "source": [
    "an # result"
   ]
  },
  {
   "cell_type": "markdown",
   "id": "b9d378f4",
   "metadata": {},
   "source": [
    "### Standing from the result p-value is greater than 0.05. Thus we can reject the alternative hypothesis and accept the null hypothesis"
   ]
  }
 ],
 "metadata": {
  "kernelspec": {
   "display_name": "Python 3 (ipykernel)",
   "language": "python",
   "name": "python3"
  },
  "language_info": {
   "codemirror_mode": {
    "name": "ipython",
    "version": 3
   },
   "file_extension": ".py",
   "mimetype": "text/x-python",
   "name": "python",
   "nbconvert_exporter": "python",
   "pygments_lexer": "ipython3",
   "version": "3.9.13"
  }
 },
 "nbformat": 4,
 "nbformat_minor": 5
}
