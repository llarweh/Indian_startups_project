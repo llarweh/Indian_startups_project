{
 "cells": [
  {
   "cell_type": "code",
   "execution_count": 1,
   "id": "a929a9d1",
   "metadata": {},
   "outputs": [],
   "source": [
    "import pandas as pd\n",
    "import matplotlib.pyplot as plt\n",
    "import seaborn as sns"
   ]
  },
  {
   "cell_type": "code",
   "execution_count": 2,
   "id": "d692b8d9",
   "metadata": {},
   "outputs": [],
   "source": [
    "df_2018 = pd.read_excel(\"cleaned 2018.xlsx\")\n",
    "df_2019 = pd.read_excel(\"cleaned 2019.xlsx\")\n",
    "df_2020 = pd.read_excel(\"cleaned 2020.xlsx\")\n",
    "df_2021 = pd.read_excel(\"cleaned 2021.xlsx\")"
   ]
  },
  {
   "cell_type": "code",
   "execution_count": 3,
   "id": "ab48072f",
   "metadata": {},
   "outputs": [],
   "source": [
    "df_2019.rename(columns={'Company Name': 'Company/Brand'}, inplace=True)"
   ]
  },
  {
   "cell_type": "code",
   "execution_count": 4,
   "id": "36ffa8eb",
   "metadata": {},
   "outputs": [],
   "source": [
    "df_2018.dropna(inplace=True)\n",
    "df_2018.reset_index(drop=True, inplace=True)\n",
    "\n",
    "df_2019.dropna(inplace=True)\n",
    "df_2019.reset_index(drop=True, inplace=True)\n",
    "\n",
    "df_2020.dropna(inplace=True)\n",
    "df_2020.reset_index(drop=True, inplace=True)\n",
    "\n",
    "df_2021.dropna(inplace=True)\n",
    "df_2021.reset_index(drop=True, inplace=True)"
   ]
  },
  {
   "cell_type": "code",
   "execution_count": 5,
   "id": "0b86df7e",
   "metadata": {},
   "outputs": [],
   "source": [
    "# Adding column year\n",
    "\n",
    "Year = [\"2018\" for i in range(df_2018.shape[0])]\n",
    "df_2018[\"Year\"] = Year\n",
    "\n",
    "Year = [\"2019\" for i in range(df_2019.shape[0])]\n",
    "df_2019[\"Year\"] = Year\n",
    "\n",
    "Year = [\"2020\" for i in range(df_2020.shape[0])]\n",
    "df_2020[\"Year\"] = Year\n",
    "\n",
    "Year = [\"2021\" for i in range(df_2021.shape[0])]\n",
    "df_2021[\"Year\"] = Year"
   ]
  },
  {
   "cell_type": "code",
   "execution_count": 6,
   "id": "2e08cee4",
   "metadata": {},
   "outputs": [],
   "source": [
    "#Combining the datasets\n",
    "data = [df_2018, df_2019, df_2020, df_2021]\n",
    "df_main = pd.concat(data)"
   ]
  },
  {
   "cell_type": "code",
   "execution_count": 7,
   "id": "f033a22b",
   "metadata": {},
   "outputs": [
    {
     "data": {
      "text/html": [
       "<div>\n",
       "<style scoped>\n",
       "    .dataframe tbody tr th:only-of-type {\n",
       "        vertical-align: middle;\n",
       "    }\n",
       "\n",
       "    .dataframe tbody tr th {\n",
       "        vertical-align: top;\n",
       "    }\n",
       "\n",
       "    .dataframe thead th {\n",
       "        text-align: right;\n",
       "    }\n",
       "</style>\n",
       "<table border=\"1\" class=\"dataframe\">\n",
       "  <thead>\n",
       "    <tr style=\"text-align: right;\">\n",
       "      <th></th>\n",
       "      <th>Company/Brand</th>\n",
       "      <th>Industry</th>\n",
       "      <th>Series</th>\n",
       "      <th>Amount($)</th>\n",
       "      <th>What it does</th>\n",
       "      <th>City</th>\n",
       "      <th>Sub city</th>\n",
       "      <th>Sector</th>\n",
       "      <th>Year</th>\n",
       "      <th>Founded</th>\n",
       "      <th>Founders</th>\n",
       "      <th>Investor</th>\n",
       "      <th>Stage</th>\n",
       "      <th>HeadQuarter</th>\n",
       "    </tr>\n",
       "  </thead>\n",
       "  <tbody>\n",
       "    <tr>\n",
       "      <th>0</th>\n",
       "      <td>TheCollegeFever</td>\n",
       "      <td>Brand Marketing</td>\n",
       "      <td>Seed</td>\n",
       "      <td>250000.0</td>\n",
       "      <td>TheCollegeFever is a hub for fun, fiesta and f...</td>\n",
       "      <td>Bangalore</td>\n",
       "      <td>Karnataka</td>\n",
       "      <td>Event Promotion, Marketing, Sponsorship, Tick...</td>\n",
       "      <td>2018</td>\n",
       "      <td>NaN</td>\n",
       "      <td>NaN</td>\n",
       "      <td>NaN</td>\n",
       "      <td>NaN</td>\n",
       "      <td>NaN</td>\n",
       "    </tr>\n",
       "    <tr>\n",
       "      <th>1</th>\n",
       "      <td>Happy Cow Dairy</td>\n",
       "      <td>Agriculture</td>\n",
       "      <td>Seed</td>\n",
       "      <td>40000000.0</td>\n",
       "      <td>A startup which aggregates milk from dairy far...</td>\n",
       "      <td>Mumbai</td>\n",
       "      <td>Maharashtra</td>\n",
       "      <td>Farming</td>\n",
       "      <td>2018</td>\n",
       "      <td>NaN</td>\n",
       "      <td>NaN</td>\n",
       "      <td>NaN</td>\n",
       "      <td>NaN</td>\n",
       "      <td>NaN</td>\n",
       "    </tr>\n",
       "    <tr>\n",
       "      <th>2</th>\n",
       "      <td>MyLoanCare</td>\n",
       "      <td>Credit</td>\n",
       "      <td>Series A</td>\n",
       "      <td>65000000.0</td>\n",
       "      <td>Leading Online Loans Marketplace in India</td>\n",
       "      <td>Gurgaon</td>\n",
       "      <td>Haryana</td>\n",
       "      <td>Financial Services, Lending, Marketplace</td>\n",
       "      <td>2018</td>\n",
       "      <td>NaN</td>\n",
       "      <td>NaN</td>\n",
       "      <td>NaN</td>\n",
       "      <td>NaN</td>\n",
       "      <td>NaN</td>\n",
       "    </tr>\n",
       "    <tr>\n",
       "      <th>3</th>\n",
       "      <td>PayMe India</td>\n",
       "      <td>Financial Services</td>\n",
       "      <td>Angel</td>\n",
       "      <td>2000000.0</td>\n",
       "      <td>PayMe India is an innovative FinTech organizat...</td>\n",
       "      <td>Noida</td>\n",
       "      <td>Uttar Pradesh</td>\n",
       "      <td>FinTech</td>\n",
       "      <td>2018</td>\n",
       "      <td>NaN</td>\n",
       "      <td>NaN</td>\n",
       "      <td>NaN</td>\n",
       "      <td>NaN</td>\n",
       "      <td>NaN</td>\n",
       "    </tr>\n",
       "    <tr>\n",
       "      <th>4</th>\n",
       "      <td>Eunimart</td>\n",
       "      <td>E-Commerce Platforms</td>\n",
       "      <td>Seed</td>\n",
       "      <td>0.0</td>\n",
       "      <td>Eunimart is a one stop solution for merchants ...</td>\n",
       "      <td>Hyderabad</td>\n",
       "      <td>Andhra Pradesh</td>\n",
       "      <td>Retail, SaaS</td>\n",
       "      <td>2018</td>\n",
       "      <td>NaN</td>\n",
       "      <td>NaN</td>\n",
       "      <td>NaN</td>\n",
       "      <td>NaN</td>\n",
       "      <td>NaN</td>\n",
       "    </tr>\n",
       "    <tr>\n",
       "      <th>...</th>\n",
       "      <td>...</td>\n",
       "      <td>...</td>\n",
       "      <td>...</td>\n",
       "      <td>...</td>\n",
       "      <td>...</td>\n",
       "      <td>...</td>\n",
       "      <td>...</td>\n",
       "      <td>...</td>\n",
       "      <td>...</td>\n",
       "      <td>...</td>\n",
       "      <td>...</td>\n",
       "      <td>...</td>\n",
       "      <td>...</td>\n",
       "      <td>...</td>\n",
       "    </tr>\n",
       "    <tr>\n",
       "      <th>1204</th>\n",
       "      <td>Gigforce</td>\n",
       "      <td>NaN</td>\n",
       "      <td>NaN</td>\n",
       "      <td>3000000.0</td>\n",
       "      <td>A gig/on-demand staffing company.</td>\n",
       "      <td>NaN</td>\n",
       "      <td>NaN</td>\n",
       "      <td>Staffing &amp; Recruiting</td>\n",
       "      <td>2021</td>\n",
       "      <td>2019</td>\n",
       "      <td>Chirag Mittal, Anirudh Syal</td>\n",
       "      <td>Endiya Partners</td>\n",
       "      <td>Pre-series A</td>\n",
       "      <td>Gurugram</td>\n",
       "    </tr>\n",
       "    <tr>\n",
       "      <th>1205</th>\n",
       "      <td>Vahdam</td>\n",
       "      <td>NaN</td>\n",
       "      <td>NaN</td>\n",
       "      <td>20000000.0</td>\n",
       "      <td>VAHDAM is among the world’s first vertically i...</td>\n",
       "      <td>NaN</td>\n",
       "      <td>NaN</td>\n",
       "      <td>Food &amp; Beverages</td>\n",
       "      <td>2021</td>\n",
       "      <td>2015</td>\n",
       "      <td>Bala Sarda</td>\n",
       "      <td>IIFL AMC</td>\n",
       "      <td>Series D</td>\n",
       "      <td>New Delhi</td>\n",
       "    </tr>\n",
       "    <tr>\n",
       "      <th>1206</th>\n",
       "      <td>Leap Finance</td>\n",
       "      <td>NaN</td>\n",
       "      <td>NaN</td>\n",
       "      <td>55000000.0</td>\n",
       "      <td>International education loans for high potenti...</td>\n",
       "      <td>NaN</td>\n",
       "      <td>NaN</td>\n",
       "      <td>Financial Services</td>\n",
       "      <td>2021</td>\n",
       "      <td>2019</td>\n",
       "      <td>Arnav Kumar, Vaibhav Singh</td>\n",
       "      <td>Owl Ventures</td>\n",
       "      <td>Series C</td>\n",
       "      <td>Bangalore</td>\n",
       "    </tr>\n",
       "    <tr>\n",
       "      <th>1207</th>\n",
       "      <td>CollegeDekho</td>\n",
       "      <td>NaN</td>\n",
       "      <td>NaN</td>\n",
       "      <td>26000000.0</td>\n",
       "      <td>Collegedekho.com is Student’s Partner, Friend ...</td>\n",
       "      <td>NaN</td>\n",
       "      <td>NaN</td>\n",
       "      <td>EdTech</td>\n",
       "      <td>2021</td>\n",
       "      <td>2015</td>\n",
       "      <td>Ruchir Arora</td>\n",
       "      <td>Winter Capital, ETS, Man Capital</td>\n",
       "      <td>Series B</td>\n",
       "      <td>Gurugram</td>\n",
       "    </tr>\n",
       "    <tr>\n",
       "      <th>1208</th>\n",
       "      <td>WeRize</td>\n",
       "      <td>NaN</td>\n",
       "      <td>NaN</td>\n",
       "      <td>8000000.0</td>\n",
       "      <td>India’s first socially distributed full stack ...</td>\n",
       "      <td>NaN</td>\n",
       "      <td>NaN</td>\n",
       "      <td>Financial Services</td>\n",
       "      <td>2021</td>\n",
       "      <td>2019</td>\n",
       "      <td>Vishal Chopra, Himanshu Gupta</td>\n",
       "      <td>3one4 Capital, Kalaari Capital</td>\n",
       "      <td>Series A</td>\n",
       "      <td>Bangalore</td>\n",
       "    </tr>\n",
       "  </tbody>\n",
       "</table>\n",
       "<p>2625 rows × 14 columns</p>\n",
       "</div>"
      ],
      "text/plain": [
       "        Company/Brand              Industry    Series   Amount($)  \\\n",
       "0     TheCollegeFever       Brand Marketing      Seed    250000.0   \n",
       "1     Happy Cow Dairy           Agriculture      Seed  40000000.0   \n",
       "2          MyLoanCare                Credit  Series A  65000000.0   \n",
       "3         PayMe India    Financial Services     Angel   2000000.0   \n",
       "4            Eunimart  E-Commerce Platforms      Seed         0.0   \n",
       "...               ...                   ...       ...         ...   \n",
       "1204         Gigforce                   NaN       NaN   3000000.0   \n",
       "1205           Vahdam                   NaN       NaN  20000000.0   \n",
       "1206     Leap Finance                   NaN       NaN  55000000.0   \n",
       "1207     CollegeDekho                   NaN       NaN  26000000.0   \n",
       "1208           WeRize                   NaN       NaN   8000000.0   \n",
       "\n",
       "                                           What it does       City  \\\n",
       "0     TheCollegeFever is a hub for fun, fiesta and f...  Bangalore   \n",
       "1     A startup which aggregates milk from dairy far...     Mumbai   \n",
       "2             Leading Online Loans Marketplace in India    Gurgaon   \n",
       "3     PayMe India is an innovative FinTech organizat...      Noida   \n",
       "4     Eunimart is a one stop solution for merchants ...  Hyderabad   \n",
       "...                                                 ...        ...   \n",
       "1204                  A gig/on-demand staffing company.        NaN   \n",
       "1205  VAHDAM is among the world’s first vertically i...        NaN   \n",
       "1206  International education loans for high potenti...        NaN   \n",
       "1207  Collegedekho.com is Student’s Partner, Friend ...        NaN   \n",
       "1208  India’s first socially distributed full stack ...        NaN   \n",
       "\n",
       "             Sub city                                             Sector  \\\n",
       "0           Karnataka   Event Promotion, Marketing, Sponsorship, Tick...   \n",
       "1         Maharashtra                                            Farming   \n",
       "2             Haryana           Financial Services, Lending, Marketplace   \n",
       "3       Uttar Pradesh                                            FinTech   \n",
       "4      Andhra Pradesh                                       Retail, SaaS   \n",
       "...               ...                                                ...   \n",
       "1204              NaN                              Staffing & Recruiting   \n",
       "1205              NaN                                   Food & Beverages   \n",
       "1206              NaN                                 Financial Services   \n",
       "1207              NaN                                             EdTech   \n",
       "1208              NaN                                 Financial Services   \n",
       "\n",
       "      Year Founded                       Founders  \\\n",
       "0     2018     NaN                            NaN   \n",
       "1     2018     NaN                            NaN   \n",
       "2     2018     NaN                            NaN   \n",
       "3     2018     NaN                            NaN   \n",
       "4     2018     NaN                            NaN   \n",
       "...    ...     ...                            ...   \n",
       "1204  2021    2019    Chirag Mittal, Anirudh Syal   \n",
       "1205  2021    2015                     Bala Sarda   \n",
       "1206  2021    2019     Arnav Kumar, Vaibhav Singh   \n",
       "1207  2021    2015                   Ruchir Arora   \n",
       "1208  2021    2019  Vishal Chopra, Himanshu Gupta   \n",
       "\n",
       "                              Investor         Stage HeadQuarter  \n",
       "0                                  NaN           NaN         NaN  \n",
       "1                                  NaN           NaN         NaN  \n",
       "2                                  NaN           NaN         NaN  \n",
       "3                                  NaN           NaN         NaN  \n",
       "4                                  NaN           NaN         NaN  \n",
       "...                                ...           ...         ...  \n",
       "1204                   Endiya Partners  Pre-series A    Gurugram  \n",
       "1205                          IIFL AMC      Series D   New Delhi  \n",
       "1206                      Owl Ventures      Series C   Bangalore  \n",
       "1207  Winter Capital, ETS, Man Capital      Series B    Gurugram  \n",
       "1208    3one4 Capital, Kalaari Capital      Series A   Bangalore  \n",
       "\n",
       "[2625 rows x 14 columns]"
      ]
     },
     "execution_count": 7,
     "metadata": {},
     "output_type": "execute_result"
    }
   ],
   "source": [
    "df_main"
   ]
  },
  {
   "cell_type": "code",
   "execution_count": 8,
   "id": "e6ae59c9",
   "metadata": {},
   "outputs": [
    {
     "data": {
      "text/plain": [
       "Company/Brand    False\n",
       "Industry          True\n",
       "Series            True\n",
       "Amount($)        False\n",
       "What it does     False\n",
       "City              True\n",
       "Sub city          True\n",
       "Sector           False\n",
       "Year             False\n",
       "Founded           True\n",
       "Founders          True\n",
       "Investor          True\n",
       "Stage             True\n",
       "HeadQuarter       True\n",
       "dtype: bool"
      ]
     },
     "execution_count": 8,
     "metadata": {},
     "output_type": "execute_result"
    }
   ],
   "source": [
    "df_main.isnull().any()"
   ]
  },
  {
   "cell_type": "markdown",
   "id": "2f1ca393",
   "metadata": {},
   "source": [
    "## Statistics "
   ]
  },
  {
   "cell_type": "code",
   "execution_count": 9,
   "id": "fcd9dba5",
   "metadata": {},
   "outputs": [
    {
     "data": {
      "text/html": [
       "<div>\n",
       "<style scoped>\n",
       "    .dataframe tbody tr th:only-of-type {\n",
       "        vertical-align: middle;\n",
       "    }\n",
       "\n",
       "    .dataframe tbody tr th {\n",
       "        vertical-align: top;\n",
       "    }\n",
       "\n",
       "    .dataframe thead th {\n",
       "        text-align: right;\n",
       "    }\n",
       "</style>\n",
       "<table border=\"1\" class=\"dataframe\">\n",
       "  <thead>\n",
       "    <tr style=\"text-align: right;\">\n",
       "      <th></th>\n",
       "      <th>Amount($)</th>\n",
       "    </tr>\n",
       "  </thead>\n",
       "  <tbody>\n",
       "    <tr>\n",
       "      <th>count</th>\n",
       "      <td>2.625000e+03</td>\n",
       "    </tr>\n",
       "    <tr>\n",
       "      <th>mean</th>\n",
       "      <td>1.263817e+08</td>\n",
       "    </tr>\n",
       "    <tr>\n",
       "      <th>std</th>\n",
       "      <td>3.249302e+09</td>\n",
       "    </tr>\n",
       "    <tr>\n",
       "      <th>min</th>\n",
       "      <td>0.000000e+00</td>\n",
       "    </tr>\n",
       "    <tr>\n",
       "      <th>25%</th>\n",
       "      <td>6.000000e+05</td>\n",
       "    </tr>\n",
       "    <tr>\n",
       "      <th>50%</th>\n",
       "      <td>3.500000e+06</td>\n",
       "    </tr>\n",
       "    <tr>\n",
       "      <th>75%</th>\n",
       "      <td>1.194350e+07</td>\n",
       "    </tr>\n",
       "    <tr>\n",
       "      <th>max</th>\n",
       "      <td>1.500000e+11</td>\n",
       "    </tr>\n",
       "  </tbody>\n",
       "</table>\n",
       "</div>"
      ],
      "text/plain": [
       "          Amount($)\n",
       "count  2.625000e+03\n",
       "mean   1.263817e+08\n",
       "std    3.249302e+09\n",
       "min    0.000000e+00\n",
       "25%    6.000000e+05\n",
       "50%    3.500000e+06\n",
       "75%    1.194350e+07\n",
       "max    1.500000e+11"
      ]
     },
     "execution_count": 9,
     "metadata": {},
     "output_type": "execute_result"
    }
   ],
   "source": [
    "df_main.describe()"
   ]
  },
  {
   "cell_type": "code",
   "execution_count": 10,
   "id": "e7d89ed5",
   "metadata": {},
   "outputs": [
    {
     "data": {
      "text/plain": [
       "array([[<AxesSubplot:title={'center':'Amount($)'}>, <AxesSubplot:>,\n",
       "        <AxesSubplot:>, <AxesSubplot:>],\n",
       "       [<AxesSubplot:>, <AxesSubplot:>, <AxesSubplot:>, <AxesSubplot:>],\n",
       "       [<AxesSubplot:>, <AxesSubplot:>, <AxesSubplot:>, <AxesSubplot:>]],\n",
       "      dtype=object)"
      ]
     },
     "execution_count": 10,
     "metadata": {},
     "output_type": "execute_result"
    },
    {
     "data": {
      "image/png": "[encoded data removed]",
      "text/plain": [
       "<Figure size 1080x1080 with 12 Axes>"
      ]
     },
     "metadata": {
      "needs_background": "light"
     },
     "output_type": "display_data"
    }
   ],
   "source": [
    "df_main.hist(\n",
    "    figsize=(15, 15),\n",
    "    layout=(3,4),\n",
    "    bins=20\n",
    ")"
   ]
  },
  {
   "cell_type": "markdown",
   "id": "daa21697",
   "metadata": {},
   "source": [
    "## The Company with largest Amount of Investment/Funding"
   ]
  },
  {
   "cell_type": "code",
   "execution_count": 11,
   "id": "ec765164",
   "metadata": {},
   "outputs": [],
   "source": [
    "large_com = df_main.sort_values(by='Amount($)', ascending=False).head(1)"
   ]
  },
  {
   "cell_type": "code",
   "execution_count": 12,
   "id": "bae4c353",
   "metadata": {},
   "outputs": [
    {
     "data": {
      "text/html": [
       "<div>\n",
       "<style scoped>\n",
       "    .dataframe tbody tr th:only-of-type {\n",
       "        vertical-align: middle;\n",
       "    }\n",
       "\n",
       "    .dataframe tbody tr th {\n",
       "        vertical-align: top;\n",
       "    }\n",
       "\n",
       "    .dataframe thead th {\n",
       "        text-align: right;\n",
       "    }\n",
       "</style>\n",
       "<table border=\"1\" class=\"dataframe\">\n",
       "  <thead>\n",
       "    <tr style=\"text-align: right;\">\n",
       "      <th></th>\n",
       "      <th>Company/Brand</th>\n",
       "      <th>Industry</th>\n",
       "      <th>Series</th>\n",
       "      <th>Amount($)</th>\n",
       "      <th>What it does</th>\n",
       "      <th>City</th>\n",
       "      <th>Sub city</th>\n",
       "      <th>Sector</th>\n",
       "      <th>Year</th>\n",
       "      <th>Founded</th>\n",
       "      <th>Founders</th>\n",
       "      <th>Investor</th>\n",
       "      <th>Stage</th>\n",
       "      <th>HeadQuarter</th>\n",
       "    </tr>\n",
       "  </thead>\n",
       "  <tbody>\n",
       "    <tr>\n",
       "      <th>73</th>\n",
       "      <td>Alteria Capital</td>\n",
       "      <td>NaN</td>\n",
       "      <td>NaN</td>\n",
       "      <td>1.500000e+11</td>\n",
       "      <td>Alteria Capital is a Venture debt firm .</td>\n",
       "      <td>NaN</td>\n",
       "      <td>NaN</td>\n",
       "      <td>FinTech</td>\n",
       "      <td>2021</td>\n",
       "      <td>2018</td>\n",
       "      <td>Vinod Murali</td>\n",
       "      <td>unkown</td>\n",
       "      <td>Debt</td>\n",
       "      <td>Mumbai</td>\n",
       "    </tr>\n",
       "  </tbody>\n",
       "</table>\n",
       "</div>"
      ],
      "text/plain": [
       "      Company/Brand Industry Series     Amount($)  \\\n",
       "73  Alteria Capital      NaN    NaN  1.500000e+11   \n",
       "\n",
       "                                What it does City Sub city   Sector  Year  \\\n",
       "73  Alteria Capital is a Venture debt firm .  NaN      NaN  FinTech  2021   \n",
       "\n",
       "   Founded      Founders Investor Stage HeadQuarter  \n",
       "73    2018  Vinod Murali   unkown  Debt      Mumbai  "
      ]
     },
     "execution_count": 12,
     "metadata": {},
     "output_type": "execute_result"
    }
   ],
   "source": [
    "large_com"
   ]
  },
  {
   "cell_type": "markdown",
   "id": "043c5fa2",
   "metadata": {},
   "source": [
    "## Which Companies have received the Highest Funding Amounts($)?"
   ]
  },
  {
   "cell_type": "code",
   "execution_count": 13,
   "id": "835c4915",
   "metadata": {},
   "outputs": [],
   "source": [
    "top_10_com = df_main.groupby(\"Company/Brand\")[\"Amount($)\"].sum().reset_index()"
   ]
  },
  {
   "cell_type": "code",
   "execution_count": 14,
   "id": "d4a98fcb",
   "metadata": {},
   "outputs": [],
   "source": [
    "top_10_com = top_10_com.sort_values(by = \"Amount($)\", ascending = False).head(10)"
   ]
  },
  {
   "cell_type": "code",
   "execution_count": 15,
   "id": "db8cbb6a",
   "metadata": {},
   "outputs": [
    {
     "data": {
      "text/html": [
       "<div>\n",
       "<style scoped>\n",
       "    .dataframe tbody tr th:only-of-type {\n",
       "        vertical-align: middle;\n",
       "    }\n",
       "\n",
       "    .dataframe tbody tr th {\n",
       "        vertical-align: top;\n",
       "    }\n",
       "\n",
       "    .dataframe thead th {\n",
       "        text-align: right;\n",
       "    }\n",
       "</style>\n",
       "<table border=\"1\" class=\"dataframe\">\n",
       "  <thead>\n",
       "    <tr style=\"text-align: right;\">\n",
       "      <th></th>\n",
       "      <th>Company/Brand</th>\n",
       "      <th>Amount($)</th>\n",
       "    </tr>\n",
       "  </thead>\n",
       "  <tbody>\n",
       "    <tr>\n",
       "      <th>65</th>\n",
       "      <td>Alteria Capital</td>\n",
       "      <td>1.500000e+11</td>\n",
       "    </tr>\n",
       "    <tr>\n",
       "      <th>1425</th>\n",
       "      <td>Reliance Retail Ventures Ltd</td>\n",
       "      <td>7.000000e+10</td>\n",
       "    </tr>\n",
       "    <tr>\n",
       "      <th>837</th>\n",
       "      <td>Indiabulls Ventures</td>\n",
       "      <td>1.539200e+10</td>\n",
       "    </tr>\n",
       "    <tr>\n",
       "      <th>659</th>\n",
       "      <td>Fusion Microfinance</td>\n",
       "      <td>5.200000e+09</td>\n",
       "    </tr>\n",
       "    <tr>\n",
       "      <th>323</th>\n",
       "      <td>ClearTax</td>\n",
       "      <td>4.000000e+09</td>\n",
       "    </tr>\n",
       "    <tr>\n",
       "      <th>1574</th>\n",
       "      <td>Snowflake</td>\n",
       "      <td>3.000000e+09</td>\n",
       "    </tr>\n",
       "    <tr>\n",
       "      <th>1181</th>\n",
       "      <td>Ninjacart</td>\n",
       "      <td>2.540000e+09</td>\n",
       "    </tr>\n",
       "    <tr>\n",
       "      <th>23</th>\n",
       "      <td>APAC Financial Services</td>\n",
       "      <td>2.500000e+09</td>\n",
       "    </tr>\n",
       "    <tr>\n",
       "      <th>1422</th>\n",
       "      <td>Reliance</td>\n",
       "      <td>2.200000e+09</td>\n",
       "    </tr>\n",
       "    <tr>\n",
       "      <th>207</th>\n",
       "      <td>Blackbuck</td>\n",
       "      <td>2.041544e+09</td>\n",
       "    </tr>\n",
       "  </tbody>\n",
       "</table>\n",
       "</div>"
      ],
      "text/plain": [
       "                     Company/Brand     Amount($)\n",
       "65                 Alteria Capital  1.500000e+11\n",
       "1425  Reliance Retail Ventures Ltd  7.000000e+10\n",
       "837            Indiabulls Ventures  1.539200e+10\n",
       "659            Fusion Microfinance  5.200000e+09\n",
       "323                       ClearTax  4.000000e+09\n",
       "1574                     Snowflake  3.000000e+09\n",
       "1181                     Ninjacart  2.540000e+09\n",
       "23         APAC Financial Services  2.500000e+09\n",
       "1422                      Reliance  2.200000e+09\n",
       "207                      Blackbuck  2.041544e+09"
      ]
     },
     "execution_count": 15,
     "metadata": {},
     "output_type": "execute_result"
    }
   ],
   "source": [
    "top_10_com"
   ]
  },
  {
   "cell_type": "code",
   "execution_count": 16,
   "id": "bb4df1be",
   "metadata": {},
   "outputs": [],
   "source": [
    "top_10_com[\"Amount($)\"] = top_10_com[\"Amount($)\"].apply(lambda x : \"{:.0f}\".format(x) )"
   ]
  },
  {
   "cell_type": "code",
   "execution_count": 17,
   "id": "05e29022",
   "metadata": {},
   "outputs": [],
   "source": [
    "top_10_com[\"Amount($)\"] = top_10_com[\"Amount($)\"].astype(float)"
   ]
  },
  {
   "cell_type": "code",
   "execution_count": 18,
   "id": "a6cebf37",
   "metadata": {},
   "outputs": [
    {
     "data": {
      "text/plain": [
       "pandas.core.series.Series"
      ]
     },
     "execution_count": 18,
     "metadata": {},
     "output_type": "execute_result"
    }
   ],
   "source": [
    "type(top_10_com[\"Amount($)\"])"
   ]
  },
  {
   "cell_type": "code",
   "execution_count": 60,
   "id": "da43e6d0",
   "metadata": {},
   "outputs": [
    {
     "data": {
      "image/png": "[encoded data removed]",
      "text/plain": [
       "<Figure size 576x360 with 1 Axes>"
      ]
     },
     "metadata": {},
     "output_type": "display_data"
    }
   ],
   "source": [
    "plt.figure(figsize=(8,5))\n",
    "plt.title(\"Top 10 Companies with the Highest Funding\")\n",
    "plt.style.use(\"fivethirtyeight\")\n",
    "fig = sns.barplot(y = \"Company/Brand\", x = \"Amount($)\", palette = \"Blues_d\", data = top_10_com)\n",
    "fig.set(xlabel=\"Amount($) in Billion\", ylabel=\"Company/Brand\")\n",
    "for i in fig.containers:\n",
    "    fig.bar_label(i,)\n",
    "plt.show()"
   ]
  },
  {
   "cell_type": "markdown",
   "id": "0e6d144d",
   "metadata": {},
   "source": [
    "## Top 5 Cities with the Highest Amount($)"
   ]
  },
  {
   "cell_type": "code",
   "execution_count": 75,
   "id": "46854468",
   "metadata": {},
   "outputs": [],
   "source": [
    "# Perform replacements in the 'Location' column\n",
    "df_main['City'] = df_main['City'].replace(['Bangaluru', 'Banglore', 'Bengaluru'], 'Bangalore', regex=True)\n",
    "df_main['City'] = df_main['City'].replace('^Delhi$', 'New Delhi', regex=True)\n",
    "df_main['City'] = df_main['City'].replace('^Shanghai, China$', 'Shanghai', regex=True)\n",
    "df_main['City'] = df_main['City'].replace('^Jiaxing, Zhejiang, China$', 'Jiaxing', regex=True)"
   ]
  },
  {
   "cell_type": "code",
   "execution_count": 76,
   "id": "7469448c",
   "metadata": {},
   "outputs": [
    {
     "data": {
      "image/png": "[encoded data removed]",
      "text/plain": [
       "<Figure size 720x432 with 1 Axes>"
      ]
     },
     "metadata": {},
     "output_type": "display_data"
    }
   ],
   "source": [
    "# Group the data by 'City' and calculate the total funding amount for each city\n",
    "city_funding = df_main.groupby('City')['Amount($)'].sum().reset_index()\n",
    "\n",
    "# Sort the cities based on the total funding amount in descending order and select the top 5\n",
    "top_cities = city_funding.sort_values(by='Amount($)', ascending=False).head(5)\n",
    "\n",
    "#Plotting the bar chart\n",
    "plt.figure(figsize=(10,6))\n",
    "plt.title(\"Top 5 Cities with the Highest Amount($)\")\n",
    "sns.barplot(x = \"City\", data = top_cities, y = \"Amount($)\", hue=\"City\")\n",
    "plt.xticks(rotation=45)\n",
    "\n",
    "plt.xlabel('City')\n",
    "plt.ylabel('Total Funding Amount ($)')\n",
    "\n",
    "# Add spacing between the bars\n",
    "plt.tight_layout()\n",
    "\n",
    "plt.show()"
   ]
  },
  {
   "cell_type": "markdown",
   "id": "fc1f40a3",
   "metadata": {},
   "source": [
    "## Top 5 Cities with the Highest Number of Companies/Startups"
   ]
  },
  {
   "cell_type": "code",
   "execution_count": 22,
   "id": "5012c4a2",
   "metadata": {},
   "outputs": [],
   "source": [
    "a = df_main.groupby(\"City\")[\"Company/Brand\"].count().reset_index()\n",
    "a = a.sort_values(\"Company/Brand\", ascending=False)"
   ]
  },
  {
   "cell_type": "code",
   "execution_count": 23,
   "id": "d121f20c",
   "metadata": {},
   "outputs": [
    {
     "data": {
      "text/html": [
       "<div>\n",
       "<style scoped>\n",
       "    .dataframe tbody tr th:only-of-type {\n",
       "        vertical-align: middle;\n",
       "    }\n",
       "\n",
       "    .dataframe tbody tr th {\n",
       "        vertical-align: top;\n",
       "    }\n",
       "\n",
       "    .dataframe thead th {\n",
       "        text-align: right;\n",
       "    }\n",
       "</style>\n",
       "<table border=\"1\" class=\"dataframe\">\n",
       "  <thead>\n",
       "    <tr style=\"text-align: right;\">\n",
       "      <th></th>\n",
       "      <th>City</th>\n",
       "      <th>Company/Brand</th>\n",
       "    </tr>\n",
       "  </thead>\n",
       "  <tbody>\n",
       "    <tr>\n",
       "      <th>6</th>\n",
       "      <td>Bangalore</td>\n",
       "      <td>471</td>\n",
       "    </tr>\n",
       "    <tr>\n",
       "      <th>52</th>\n",
       "      <td>Mumbai</td>\n",
       "      <td>248</td>\n",
       "    </tr>\n",
       "    <tr>\n",
       "      <th>54</th>\n",
       "      <td>New Delhi</td>\n",
       "      <td>157</td>\n",
       "    </tr>\n",
       "    <tr>\n",
       "      <th>27</th>\n",
       "      <td>Gurugram</td>\n",
       "      <td>84</td>\n",
       "    </tr>\n",
       "    <tr>\n",
       "      <th>15</th>\n",
       "      <td>Chennai</td>\n",
       "      <td>59</td>\n",
       "    </tr>\n",
       "  </tbody>\n",
       "</table>\n",
       "</div>"
      ],
      "text/plain": [
       "         City  Company/Brand\n",
       "6   Bangalore            471\n",
       "52     Mumbai            248\n",
       "54  New Delhi            157\n",
       "27   Gurugram             84\n",
       "15    Chennai             59"
      ]
     },
     "execution_count": 23,
     "metadata": {},
     "output_type": "execute_result"
    }
   ],
   "source": [
    "a = a.head(5)\n",
    "a"
   ]
  },
  {
   "cell_type": "code",
   "execution_count": 77,
   "id": "c025ad3f",
   "metadata": {},
   "outputs": [
    {
     "data": {
      "image/png": "[encoded data removed]",
      "text/plain": [
       "<Figure size 576x360 with 1 Axes>"
      ]
     },
     "metadata": {},
     "output_type": "display_data"
    }
   ],
   "source": [
    "plt.figure(figsize=(8,5))\n",
    "plt.title(\"Top 5 Cities with the Highest Number of Startups\")\n",
    "fig = sns.barplot(x = \"City\", data = a, y = \"Company/Brand\", hue=\"City\")\n",
    "\n",
    "fig.set(xlabel=\"City\", ylabel=\"Company/Brand\")\n",
    "for i in fig.containers:\n",
    "    fig.bar_label(i,)\n",
    "plt.show()"
   ]
  },
  {
   "cell_type": "code",
   "execution_count": 25,
   "id": "fa5a2b9a",
   "metadata": {},
   "outputs": [],
   "source": [
    "b = df_main.groupby(\"Sector\").count().reset_index()"
   ]
  },
  {
   "cell_type": "code",
   "execution_count": 26,
   "id": "b975d1a4",
   "metadata": {},
   "outputs": [],
   "source": [
    "b = b.sort_values(by=\"City\", ascending=False)"
   ]
  },
  {
   "cell_type": "code",
   "execution_count": 27,
   "id": "298bc2cb",
   "metadata": {},
   "outputs": [],
   "source": [
    "b = b.head(5)"
   ]
  },
  {
   "cell_type": "code",
   "execution_count": 28,
   "id": "67a25c89",
   "metadata": {},
   "outputs": [
    {
     "data": {
      "text/html": [
       "<div>\n",
       "<style scoped>\n",
       "    .dataframe tbody tr th:only-of-type {\n",
       "        vertical-align: middle;\n",
       "    }\n",
       "\n",
       "    .dataframe tbody tr th {\n",
       "        vertical-align: top;\n",
       "    }\n",
       "\n",
       "    .dataframe thead th {\n",
       "        text-align: right;\n",
       "    }\n",
       "</style>\n",
       "<table border=\"1\" class=\"dataframe\">\n",
       "  <thead>\n",
       "    <tr style=\"text-align: right;\">\n",
       "      <th></th>\n",
       "      <th>Sector</th>\n",
       "      <th>Company/Brand</th>\n",
       "      <th>Industry</th>\n",
       "      <th>Series</th>\n",
       "      <th>Amount($)</th>\n",
       "      <th>What it does</th>\n",
       "      <th>City</th>\n",
       "      <th>Sub city</th>\n",
       "      <th>Year</th>\n",
       "      <th>Founded</th>\n",
       "      <th>Founders</th>\n",
       "      <th>Investor</th>\n",
       "      <th>Stage</th>\n",
       "      <th>HeadQuarter</th>\n",
       "    </tr>\n",
       "  </thead>\n",
       "  <tbody>\n",
       "    <tr>\n",
       "      <th>518</th>\n",
       "      <td>Fintech</td>\n",
       "      <td>73</td>\n",
       "      <td>0</td>\n",
       "      <td>5</td>\n",
       "      <td>73</td>\n",
       "      <td>73</td>\n",
       "      <td>73</td>\n",
       "      <td>0</td>\n",
       "      <td>73</td>\n",
       "      <td>73</td>\n",
       "      <td>73</td>\n",
       "      <td>73</td>\n",
       "      <td>68</td>\n",
       "      <td>0</td>\n",
       "    </tr>\n",
       "    <tr>\n",
       "      <th>486</th>\n",
       "      <td>Edtech</td>\n",
       "      <td>69</td>\n",
       "      <td>0</td>\n",
       "      <td>12</td>\n",
       "      <td>69</td>\n",
       "      <td>69</td>\n",
       "      <td>69</td>\n",
       "      <td>0</td>\n",
       "      <td>69</td>\n",
       "      <td>69</td>\n",
       "      <td>69</td>\n",
       "      <td>69</td>\n",
       "      <td>57</td>\n",
       "      <td>0</td>\n",
       "    </tr>\n",
       "    <tr>\n",
       "      <th>514</th>\n",
       "      <td>FinTech</td>\n",
       "      <td>173</td>\n",
       "      <td>0</td>\n",
       "      <td>0</td>\n",
       "      <td>173</td>\n",
       "      <td>173</td>\n",
       "      <td>51</td>\n",
       "      <td>0</td>\n",
       "      <td>173</td>\n",
       "      <td>173</td>\n",
       "      <td>173</td>\n",
       "      <td>173</td>\n",
       "      <td>173</td>\n",
       "      <td>122</td>\n",
       "    </tr>\n",
       "    <tr>\n",
       "      <th>483</th>\n",
       "      <td>EdTech</td>\n",
       "      <td>140</td>\n",
       "      <td>0</td>\n",
       "      <td>0</td>\n",
       "      <td>140</td>\n",
       "      <td>140</td>\n",
       "      <td>38</td>\n",
       "      <td>0</td>\n",
       "      <td>140</td>\n",
       "      <td>140</td>\n",
       "      <td>140</td>\n",
       "      <td>140</td>\n",
       "      <td>140</td>\n",
       "      <td>102</td>\n",
       "    </tr>\n",
       "    <tr>\n",
       "      <th>473</th>\n",
       "      <td>E-commerce</td>\n",
       "      <td>73</td>\n",
       "      <td>0</td>\n",
       "      <td>3</td>\n",
       "      <td>73</td>\n",
       "      <td>73</td>\n",
       "      <td>36</td>\n",
       "      <td>0</td>\n",
       "      <td>73</td>\n",
       "      <td>73</td>\n",
       "      <td>73</td>\n",
       "      <td>73</td>\n",
       "      <td>70</td>\n",
       "      <td>37</td>\n",
       "    </tr>\n",
       "  </tbody>\n",
       "</table>\n",
       "</div>"
      ],
      "text/plain": [
       "         Sector  Company/Brand  Industry  Series  Amount($)  What it does  \\\n",
       "518     Fintech             73         0       5         73            73   \n",
       "486      Edtech             69         0      12         69            69   \n",
       "514     FinTech            173         0       0        173           173   \n",
       "483      EdTech            140         0       0        140           140   \n",
       "473  E-commerce             73         0       3         73            73   \n",
       "\n",
       "     City  Sub city  Year  Founded  Founders  Investor  Stage  HeadQuarter  \n",
       "518    73         0    73       73        73        73     68            0  \n",
       "486    69         0    69       69        69        69     57            0  \n",
       "514    51         0   173      173       173       173    173          122  \n",
       "483    38         0   140      140       140       140    140          102  \n",
       "473    36         0    73       73        73        73     70           37  "
      ]
     },
     "execution_count": 28,
     "metadata": {},
     "output_type": "execute_result"
    }
   ],
   "source": [
    "b"
   ]
  },
  {
   "cell_type": "markdown",
   "id": "03a258bb",
   "metadata": {},
   "source": [
    "#### I have seen that there is one value which is same but differ because of one letter being uppercase. so i have to clean it first."
   ]
  },
  {
   "cell_type": "code",
   "execution_count": 29,
   "id": "265efba1",
   "metadata": {},
   "outputs": [],
   "source": [
    "df_main[\"Sector\"] = df_main[\"Sector\"].replace('Fintech', \"FinTech\")\n",
    "df_main[\"Sector\"] = df_main[\"Sector\"].replace('Edtech', \"EdTech\")"
   ]
  },
  {
   "cell_type": "code",
   "execution_count": 30,
   "id": "877f4e47",
   "metadata": {},
   "outputs": [
    {
     "data": {
      "text/html": [
       "<div>\n",
       "<style scoped>\n",
       "    .dataframe tbody tr th:only-of-type {\n",
       "        vertical-align: middle;\n",
       "    }\n",
       "\n",
       "    .dataframe tbody tr th {\n",
       "        vertical-align: top;\n",
       "    }\n",
       "\n",
       "    .dataframe thead th {\n",
       "        text-align: right;\n",
       "    }\n",
       "</style>\n",
       "<table border=\"1\" class=\"dataframe\">\n",
       "  <thead>\n",
       "    <tr style=\"text-align: right;\">\n",
       "      <th></th>\n",
       "      <th>Sector</th>\n",
       "      <th>Company/Brand</th>\n",
       "      <th>Industry</th>\n",
       "      <th>Series</th>\n",
       "      <th>Amount($)</th>\n",
       "      <th>What it does</th>\n",
       "      <th>City</th>\n",
       "      <th>Sub city</th>\n",
       "      <th>Year</th>\n",
       "      <th>Founded</th>\n",
       "      <th>Founders</th>\n",
       "      <th>Investor</th>\n",
       "      <th>Stage</th>\n",
       "      <th>HeadQuarter</th>\n",
       "    </tr>\n",
       "  </thead>\n",
       "  <tbody>\n",
       "    <tr>\n",
       "      <th>513</th>\n",
       "      <td>FinTech</td>\n",
       "      <td>246</td>\n",
       "      <td>0</td>\n",
       "      <td>5</td>\n",
       "      <td>246</td>\n",
       "      <td>246</td>\n",
       "      <td>124</td>\n",
       "      <td>0</td>\n",
       "      <td>246</td>\n",
       "      <td>246</td>\n",
       "      <td>246</td>\n",
       "      <td>246</td>\n",
       "      <td>241</td>\n",
       "      <td>122</td>\n",
       "    </tr>\n",
       "    <tr>\n",
       "      <th>483</th>\n",
       "      <td>EdTech</td>\n",
       "      <td>209</td>\n",
       "      <td>0</td>\n",
       "      <td>12</td>\n",
       "      <td>209</td>\n",
       "      <td>209</td>\n",
       "      <td>107</td>\n",
       "      <td>0</td>\n",
       "      <td>209</td>\n",
       "      <td>209</td>\n",
       "      <td>209</td>\n",
       "      <td>209</td>\n",
       "      <td>197</td>\n",
       "      <td>102</td>\n",
       "    </tr>\n",
       "    <tr>\n",
       "      <th>473</th>\n",
       "      <td>E-commerce</td>\n",
       "      <td>73</td>\n",
       "      <td>0</td>\n",
       "      <td>3</td>\n",
       "      <td>73</td>\n",
       "      <td>73</td>\n",
       "      <td>36</td>\n",
       "      <td>0</td>\n",
       "      <td>73</td>\n",
       "      <td>73</td>\n",
       "      <td>73</td>\n",
       "      <td>73</td>\n",
       "      <td>70</td>\n",
       "      <td>37</td>\n",
       "    </tr>\n",
       "    <tr>\n",
       "      <th>559</th>\n",
       "      <td>Healthtech</td>\n",
       "      <td>30</td>\n",
       "      <td>0</td>\n",
       "      <td>1</td>\n",
       "      <td>30</td>\n",
       "      <td>30</td>\n",
       "      <td>26</td>\n",
       "      <td>0</td>\n",
       "      <td>30</td>\n",
       "      <td>30</td>\n",
       "      <td>30</td>\n",
       "      <td>30</td>\n",
       "      <td>29</td>\n",
       "      <td>4</td>\n",
       "    </tr>\n",
       "    <tr>\n",
       "      <th>703</th>\n",
       "      <td>SaaS</td>\n",
       "      <td>27</td>\n",
       "      <td>0</td>\n",
       "      <td>4</td>\n",
       "      <td>27</td>\n",
       "      <td>27</td>\n",
       "      <td>25</td>\n",
       "      <td>0</td>\n",
       "      <td>27</td>\n",
       "      <td>27</td>\n",
       "      <td>27</td>\n",
       "      <td>27</td>\n",
       "      <td>23</td>\n",
       "      <td>2</td>\n",
       "    </tr>\n",
       "  </tbody>\n",
       "</table>\n",
       "</div>"
      ],
      "text/plain": [
       "         Sector  Company/Brand  Industry  Series  Amount($)  What it does  \\\n",
       "513     FinTech            246         0       5        246           246   \n",
       "483      EdTech            209         0      12        209           209   \n",
       "473  E-commerce             73         0       3         73            73   \n",
       "559  Healthtech             30         0       1         30            30   \n",
       "703        SaaS             27         0       4         27            27   \n",
       "\n",
       "     City  Sub city  Year  Founded  Founders  Investor  Stage  HeadQuarter  \n",
       "513   124         0   246      246       246       246    241          122  \n",
       "483   107         0   209      209       209       209    197          102  \n",
       "473    36         0    73       73        73        73     70           37  \n",
       "559    26         0    30       30        30        30     29            4  \n",
       "703    25         0    27       27        27        27     23            2  "
      ]
     },
     "execution_count": 30,
     "metadata": {},
     "output_type": "execute_result"
    }
   ],
   "source": [
    "b = df_main.groupby(\"Sector\").count().reset_index()\n",
    "b = b.sort_values(by=\"City\", ascending=False)\n",
    "b = b.head(5)\n",
    "b"
   ]
  },
  {
   "cell_type": "code",
   "execution_count": 31,
   "id": "009f0225",
   "metadata": {},
   "outputs": [
    {
     "data": {
      "image/png": "[encoded data removed]",
      "text/plain": [
       "<Figure size 576x360 with 1 Axes>"
      ]
     },
     "metadata": {},
     "output_type": "display_data"
    }
   ],
   "source": [
    "plt.figure(figsize=(8,5))\n",
    "plt.title(\"Top 5 Sector\")\n",
    "fig = sns.barplot(y = \"Sector\", data = b, x = \"Company/Brand\", hue=\"Sector\")\n",
    "\n",
    "fig.set(xlabel=\"Number\", ylabel=\"Sector\")\n",
    "for i in fig.containers:\n",
    "    fig.bar_label(i,)\n",
    "plt.show()"
   ]
  },
  {
   "cell_type": "code",
   "execution_count": 32,
   "id": "6c06c2b2",
   "metadata": {},
   "outputs": [
    {
     "data": {
      "text/html": [
       "<div>\n",
       "<style scoped>\n",
       "    .dataframe tbody tr th:only-of-type {\n",
       "        vertical-align: middle;\n",
       "    }\n",
       "\n",
       "    .dataframe tbody tr th {\n",
       "        vertical-align: top;\n",
       "    }\n",
       "\n",
       "    .dataframe thead th {\n",
       "        text-align: right;\n",
       "    }\n",
       "</style>\n",
       "<table border=\"1\" class=\"dataframe\">\n",
       "  <thead>\n",
       "    <tr style=\"text-align: right;\">\n",
       "      <th></th>\n",
       "      <th>Year</th>\n",
       "      <th>Amount($)</th>\n",
       "    </tr>\n",
       "  </thead>\n",
       "  <tbody>\n",
       "    <tr>\n",
       "      <th>0</th>\n",
       "      <td>2018</td>\n",
       "      <td>5.724083e+10</td>\n",
       "    </tr>\n",
       "    <tr>\n",
       "      <th>1</th>\n",
       "      <td>2019</td>\n",
       "      <td>3.336433e+09</td>\n",
       "    </tr>\n",
       "    <tr>\n",
       "      <th>2</th>\n",
       "      <td>2020</td>\n",
       "      <td>9.136121e+10</td>\n",
       "    </tr>\n",
       "    <tr>\n",
       "      <th>3</th>\n",
       "      <td>2021</td>\n",
       "      <td>1.798134e+11</td>\n",
       "    </tr>\n",
       "  </tbody>\n",
       "</table>\n",
       "</div>"
      ],
      "text/plain": [
       "   Year     Amount($)\n",
       "0  2018  5.724083e+10\n",
       "1  2019  3.336433e+09\n",
       "2  2020  9.136121e+10\n",
       "3  2021  1.798134e+11"
      ]
     },
     "execution_count": 32,
     "metadata": {},
     "output_type": "execute_result"
    }
   ],
   "source": [
    "c = df_main.groupby(\"Year\").sum()\n",
    "c = c.sort_values(by=\"Year\").reset_index()\n",
    "c"
   ]
  },
  {
   "cell_type": "markdown",
   "id": "e0079256",
   "metadata": {},
   "source": [
    "### What is the trend in value of Indian start-up funding over the years?"
   ]
  },
  {
   "cell_type": "code",
   "execution_count": 33,
   "id": "ca197fcf",
   "metadata": {},
   "outputs": [
    {
     "data": {
      "image/png": "[encoded data removed]",
      "text/plain": [
       "<Figure size 720x432 with 1 Axes>"
      ]
     },
     "metadata": {},
     "output_type": "display_data"
    }
   ],
   "source": [
    "plt.figure(figsize=(10,6))\n",
    "fig = sns.lineplot(data=c, x=\"Year\", y=\"Amount($)\")\n",
    "plt.title(\"Total Amount($) in Each Year\")\n",
    "plt.ylabel(\"Amount($) in Billions\")\n",
    "\n",
    "for i in fig.containers:\n",
    "    fig.bar_label(i,)\n",
    "plt.show()"
   ]
  },
  {
   "cell_type": "code",
   "execution_count": 34,
   "id": "a5c4f65d",
   "metadata": {},
   "outputs": [
    {
     "data": {
      "text/html": [
       "<div>\n",
       "<style scoped>\n",
       "    .dataframe tbody tr th:only-of-type {\n",
       "        vertical-align: middle;\n",
       "    }\n",
       "\n",
       "    .dataframe tbody tr th {\n",
       "        vertical-align: top;\n",
       "    }\n",
       "\n",
       "    .dataframe thead th {\n",
       "        text-align: right;\n",
       "    }\n",
       "</style>\n",
       "<table border=\"1\" class=\"dataframe\">\n",
       "  <thead>\n",
       "    <tr style=\"text-align: right;\">\n",
       "      <th></th>\n",
       "      <th>Company/Brand</th>\n",
       "      <th>Industry</th>\n",
       "      <th>Series</th>\n",
       "      <th>Amount($)</th>\n",
       "      <th>What it does</th>\n",
       "      <th>City</th>\n",
       "      <th>Sub city</th>\n",
       "      <th>Sector</th>\n",
       "      <th>Year</th>\n",
       "      <th>Founded</th>\n",
       "      <th>Founders</th>\n",
       "      <th>Investor</th>\n",
       "      <th>Stage</th>\n",
       "      <th>HeadQuarter</th>\n",
       "    </tr>\n",
       "  </thead>\n",
       "  <tbody>\n",
       "    <tr>\n",
       "      <th>0</th>\n",
       "      <td>TheCollegeFever</td>\n",
       "      <td>Brand Marketing</td>\n",
       "      <td>Seed</td>\n",
       "      <td>250000.0</td>\n",
       "      <td>TheCollegeFever is a hub for fun, fiesta and f...</td>\n",
       "      <td>Bangalore</td>\n",
       "      <td>Karnataka</td>\n",
       "      <td>Event Promotion, Marketing, Sponsorship, Tick...</td>\n",
       "      <td>2018</td>\n",
       "      <td>NaN</td>\n",
       "      <td>NaN</td>\n",
       "      <td>NaN</td>\n",
       "      <td>NaN</td>\n",
       "      <td>NaN</td>\n",
       "    </tr>\n",
       "    <tr>\n",
       "      <th>1</th>\n",
       "      <td>Happy Cow Dairy</td>\n",
       "      <td>Agriculture</td>\n",
       "      <td>Seed</td>\n",
       "      <td>40000000.0</td>\n",
       "      <td>A startup which aggregates milk from dairy far...</td>\n",
       "      <td>Mumbai</td>\n",
       "      <td>Maharashtra</td>\n",
       "      <td>Farming</td>\n",
       "      <td>2018</td>\n",
       "      <td>NaN</td>\n",
       "      <td>NaN</td>\n",
       "      <td>NaN</td>\n",
       "      <td>NaN</td>\n",
       "      <td>NaN</td>\n",
       "    </tr>\n",
       "    <tr>\n",
       "      <th>2</th>\n",
       "      <td>MyLoanCare</td>\n",
       "      <td>Credit</td>\n",
       "      <td>Series A</td>\n",
       "      <td>65000000.0</td>\n",
       "      <td>Leading Online Loans Marketplace in India</td>\n",
       "      <td>Gurgaon</td>\n",
       "      <td>Haryana</td>\n",
       "      <td>Financial Services, Lending, Marketplace</td>\n",
       "      <td>2018</td>\n",
       "      <td>NaN</td>\n",
       "      <td>NaN</td>\n",
       "      <td>NaN</td>\n",
       "      <td>NaN</td>\n",
       "      <td>NaN</td>\n",
       "    </tr>\n",
       "    <tr>\n",
       "      <th>3</th>\n",
       "      <td>PayMe India</td>\n",
       "      <td>Financial Services</td>\n",
       "      <td>Angel</td>\n",
       "      <td>2000000.0</td>\n",
       "      <td>PayMe India is an innovative FinTech organizat...</td>\n",
       "      <td>Noida</td>\n",
       "      <td>Uttar Pradesh</td>\n",
       "      <td>FinTech</td>\n",
       "      <td>2018</td>\n",
       "      <td>NaN</td>\n",
       "      <td>NaN</td>\n",
       "      <td>NaN</td>\n",
       "      <td>NaN</td>\n",
       "      <td>NaN</td>\n",
       "    </tr>\n",
       "    <tr>\n",
       "      <th>4</th>\n",
       "      <td>Eunimart</td>\n",
       "      <td>E-Commerce Platforms</td>\n",
       "      <td>Seed</td>\n",
       "      <td>0.0</td>\n",
       "      <td>Eunimart is a one stop solution for merchants ...</td>\n",
       "      <td>Hyderabad</td>\n",
       "      <td>Andhra Pradesh</td>\n",
       "      <td>Retail, SaaS</td>\n",
       "      <td>2018</td>\n",
       "      <td>NaN</td>\n",
       "      <td>NaN</td>\n",
       "      <td>NaN</td>\n",
       "      <td>NaN</td>\n",
       "      <td>NaN</td>\n",
       "    </tr>\n",
       "    <tr>\n",
       "      <th>...</th>\n",
       "      <td>...</td>\n",
       "      <td>...</td>\n",
       "      <td>...</td>\n",
       "      <td>...</td>\n",
       "      <td>...</td>\n",
       "      <td>...</td>\n",
       "      <td>...</td>\n",
       "      <td>...</td>\n",
       "      <td>...</td>\n",
       "      <td>...</td>\n",
       "      <td>...</td>\n",
       "      <td>...</td>\n",
       "      <td>...</td>\n",
       "      <td>...</td>\n",
       "    </tr>\n",
       "    <tr>\n",
       "      <th>1204</th>\n",
       "      <td>Gigforce</td>\n",
       "      <td>NaN</td>\n",
       "      <td>NaN</td>\n",
       "      <td>3000000.0</td>\n",
       "      <td>A gig/on-demand staffing company.</td>\n",
       "      <td>NaN</td>\n",
       "      <td>NaN</td>\n",
       "      <td>Staffing &amp; Recruiting</td>\n",
       "      <td>2021</td>\n",
       "      <td>2019</td>\n",
       "      <td>Chirag Mittal, Anirudh Syal</td>\n",
       "      <td>Endiya Partners</td>\n",
       "      <td>Pre-series A</td>\n",
       "      <td>Gurugram</td>\n",
       "    </tr>\n",
       "    <tr>\n",
       "      <th>1205</th>\n",
       "      <td>Vahdam</td>\n",
       "      <td>NaN</td>\n",
       "      <td>NaN</td>\n",
       "      <td>20000000.0</td>\n",
       "      <td>VAHDAM is among the world’s first vertically i...</td>\n",
       "      <td>NaN</td>\n",
       "      <td>NaN</td>\n",
       "      <td>Food &amp; Beverages</td>\n",
       "      <td>2021</td>\n",
       "      <td>2015</td>\n",
       "      <td>Bala Sarda</td>\n",
       "      <td>IIFL AMC</td>\n",
       "      <td>Series D</td>\n",
       "      <td>New Delhi</td>\n",
       "    </tr>\n",
       "    <tr>\n",
       "      <th>1206</th>\n",
       "      <td>Leap Finance</td>\n",
       "      <td>NaN</td>\n",
       "      <td>NaN</td>\n",
       "      <td>55000000.0</td>\n",
       "      <td>International education loans for high potenti...</td>\n",
       "      <td>NaN</td>\n",
       "      <td>NaN</td>\n",
       "      <td>Financial Services</td>\n",
       "      <td>2021</td>\n",
       "      <td>2019</td>\n",
       "      <td>Arnav Kumar, Vaibhav Singh</td>\n",
       "      <td>Owl Ventures</td>\n",
       "      <td>Series C</td>\n",
       "      <td>Bangalore</td>\n",
       "    </tr>\n",
       "    <tr>\n",
       "      <th>1207</th>\n",
       "      <td>CollegeDekho</td>\n",
       "      <td>NaN</td>\n",
       "      <td>NaN</td>\n",
       "      <td>26000000.0</td>\n",
       "      <td>Collegedekho.com is Student’s Partner, Friend ...</td>\n",
       "      <td>NaN</td>\n",
       "      <td>NaN</td>\n",
       "      <td>EdTech</td>\n",
       "      <td>2021</td>\n",
       "      <td>2015</td>\n",
       "      <td>Ruchir Arora</td>\n",
       "      <td>Winter Capital, ETS, Man Capital</td>\n",
       "      <td>Series B</td>\n",
       "      <td>Gurugram</td>\n",
       "    </tr>\n",
       "    <tr>\n",
       "      <th>1208</th>\n",
       "      <td>WeRize</td>\n",
       "      <td>NaN</td>\n",
       "      <td>NaN</td>\n",
       "      <td>8000000.0</td>\n",
       "      <td>India’s first socially distributed full stack ...</td>\n",
       "      <td>NaN</td>\n",
       "      <td>NaN</td>\n",
       "      <td>Financial Services</td>\n",
       "      <td>2021</td>\n",
       "      <td>2019</td>\n",
       "      <td>Vishal Chopra, Himanshu Gupta</td>\n",
       "      <td>3one4 Capital, Kalaari Capital</td>\n",
       "      <td>Series A</td>\n",
       "      <td>Bangalore</td>\n",
       "    </tr>\n",
       "  </tbody>\n",
       "</table>\n",
       "<p>2625 rows × 14 columns</p>\n",
       "</div>"
      ],
      "text/plain": [
       "        Company/Brand              Industry    Series   Amount($)  \\\n",
       "0     TheCollegeFever       Brand Marketing      Seed    250000.0   \n",
       "1     Happy Cow Dairy           Agriculture      Seed  40000000.0   \n",
       "2          MyLoanCare                Credit  Series A  65000000.0   \n",
       "3         PayMe India    Financial Services     Angel   2000000.0   \n",
       "4            Eunimart  E-Commerce Platforms      Seed         0.0   \n",
       "...               ...                   ...       ...         ...   \n",
       "1204         Gigforce                   NaN       NaN   3000000.0   \n",
       "1205           Vahdam                   NaN       NaN  20000000.0   \n",
       "1206     Leap Finance                   NaN       NaN  55000000.0   \n",
       "1207     CollegeDekho                   NaN       NaN  26000000.0   \n",
       "1208           WeRize                   NaN       NaN   8000000.0   \n",
       "\n",
       "                                           What it does       City  \\\n",
       "0     TheCollegeFever is a hub for fun, fiesta and f...  Bangalore   \n",
       "1     A startup which aggregates milk from dairy far...     Mumbai   \n",
       "2             Leading Online Loans Marketplace in India    Gurgaon   \n",
       "3     PayMe India is an innovative FinTech organizat...      Noida   \n",
       "4     Eunimart is a one stop solution for merchants ...  Hyderabad   \n",
       "...                                                 ...        ...   \n",
       "1204                  A gig/on-demand staffing company.        NaN   \n",
       "1205  VAHDAM is among the world’s first vertically i...        NaN   \n",
       "1206  International education loans for high potenti...        NaN   \n",
       "1207  Collegedekho.com is Student’s Partner, Friend ...        NaN   \n",
       "1208  India’s first socially distributed full stack ...        NaN   \n",
       "\n",
       "             Sub city                                             Sector  \\\n",
       "0           Karnataka   Event Promotion, Marketing, Sponsorship, Tick...   \n",
       "1         Maharashtra                                            Farming   \n",
       "2             Haryana           Financial Services, Lending, Marketplace   \n",
       "3       Uttar Pradesh                                            FinTech   \n",
       "4      Andhra Pradesh                                       Retail, SaaS   \n",
       "...               ...                                                ...   \n",
       "1204              NaN                              Staffing & Recruiting   \n",
       "1205              NaN                                   Food & Beverages   \n",
       "1206              NaN                                 Financial Services   \n",
       "1207              NaN                                             EdTech   \n",
       "1208              NaN                                 Financial Services   \n",
       "\n",
       "      Year Founded                       Founders  \\\n",
       "0     2018     NaN                            NaN   \n",
       "1     2018     NaN                            NaN   \n",
       "2     2018     NaN                            NaN   \n",
       "3     2018     NaN                            NaN   \n",
       "4     2018     NaN                            NaN   \n",
       "...    ...     ...                            ...   \n",
       "1204  2021    2019    Chirag Mittal, Anirudh Syal   \n",
       "1205  2021    2015                     Bala Sarda   \n",
       "1206  2021    2019     Arnav Kumar, Vaibhav Singh   \n",
       "1207  2021    2015                   Ruchir Arora   \n",
       "1208  2021    2019  Vishal Chopra, Himanshu Gupta   \n",
       "\n",
       "                              Investor         Stage HeadQuarter  \n",
       "0                                  NaN           NaN         NaN  \n",
       "1                                  NaN           NaN         NaN  \n",
       "2                                  NaN           NaN         NaN  \n",
       "3                                  NaN           NaN         NaN  \n",
       "4                                  NaN           NaN         NaN  \n",
       "...                                ...           ...         ...  \n",
       "1204                   Endiya Partners  Pre-series A    Gurugram  \n",
       "1205                          IIFL AMC      Series D   New Delhi  \n",
       "1206                      Owl Ventures      Series C   Bangalore  \n",
       "1207  Winter Capital, ETS, Man Capital      Series B    Gurugram  \n",
       "1208    3one4 Capital, Kalaari Capital      Series A   Bangalore  \n",
       "\n",
       "[2625 rows x 14 columns]"
      ]
     },
     "execution_count": 34,
     "metadata": {},
     "output_type": "execute_result"
    }
   ],
   "source": [
    "df_main"
   ]
  },
  {
   "cell_type": "markdown",
   "id": "51003dbb",
   "metadata": {},
   "source": [
    "### Has the trend in the number of Indian start-ups increased or decreased over the years?"
   ]
  },
  {
   "cell_type": "code",
   "execution_count": 35,
   "id": "e3e108fe",
   "metadata": {},
   "outputs": [],
   "source": [
    "num_startup = df_main.groupby(\"Year\").count().reset_index()"
   ]
  },
  {
   "cell_type": "code",
   "execution_count": 36,
   "id": "07e87259",
   "metadata": {},
   "outputs": [
    {
     "data": {
      "text/html": [
       "<div>\n",
       "<style scoped>\n",
       "    .dataframe tbody tr th:only-of-type {\n",
       "        vertical-align: middle;\n",
       "    }\n",
       "\n",
       "    .dataframe tbody tr th {\n",
       "        vertical-align: top;\n",
       "    }\n",
       "\n",
       "    .dataframe thead th {\n",
       "        text-align: right;\n",
       "    }\n",
       "</style>\n",
       "<table border=\"1\" class=\"dataframe\">\n",
       "  <thead>\n",
       "    <tr style=\"text-align: right;\">\n",
       "      <th></th>\n",
       "      <th>Year</th>\n",
       "      <th>Company/Brand</th>\n",
       "      <th>Industry</th>\n",
       "      <th>Series</th>\n",
       "      <th>Amount($)</th>\n",
       "      <th>What it does</th>\n",
       "      <th>City</th>\n",
       "      <th>Sub city</th>\n",
       "      <th>Sector</th>\n",
       "      <th>Founded</th>\n",
       "      <th>Founders</th>\n",
       "      <th>Investor</th>\n",
       "      <th>Stage</th>\n",
       "      <th>HeadQuarter</th>\n",
       "    </tr>\n",
       "  </thead>\n",
       "  <tbody>\n",
       "    <tr>\n",
       "      <th>0</th>\n",
       "      <td>2018</td>\n",
       "      <td>369</td>\n",
       "      <td>369</td>\n",
       "      <td>369</td>\n",
       "      <td>369</td>\n",
       "      <td>369</td>\n",
       "      <td>369</td>\n",
       "      <td>369</td>\n",
       "      <td>369</td>\n",
       "      <td>0</td>\n",
       "      <td>0</td>\n",
       "      <td>0</td>\n",
       "      <td>0</td>\n",
       "      <td>0</td>\n",
       "    </tr>\n",
       "    <tr>\n",
       "      <th>1</th>\n",
       "      <td>2019</td>\n",
       "      <td>89</td>\n",
       "      <td>0</td>\n",
       "      <td>89</td>\n",
       "      <td>89</td>\n",
       "      <td>89</td>\n",
       "      <td>89</td>\n",
       "      <td>0</td>\n",
       "      <td>89</td>\n",
       "      <td>89</td>\n",
       "      <td>89</td>\n",
       "      <td>89</td>\n",
       "      <td>0</td>\n",
       "      <td>0</td>\n",
       "    </tr>\n",
       "    <tr>\n",
       "      <th>2</th>\n",
       "      <td>2020</td>\n",
       "      <td>958</td>\n",
       "      <td>0</td>\n",
       "      <td>0</td>\n",
       "      <td>958</td>\n",
       "      <td>958</td>\n",
       "      <td>958</td>\n",
       "      <td>0</td>\n",
       "      <td>958</td>\n",
       "      <td>958</td>\n",
       "      <td>958</td>\n",
       "      <td>958</td>\n",
       "      <td>958</td>\n",
       "      <td>0</td>\n",
       "    </tr>\n",
       "    <tr>\n",
       "      <th>3</th>\n",
       "      <td>2021</td>\n",
       "      <td>1209</td>\n",
       "      <td>0</td>\n",
       "      <td>0</td>\n",
       "      <td>1209</td>\n",
       "      <td>1209</td>\n",
       "      <td>0</td>\n",
       "      <td>0</td>\n",
       "      <td>1209</td>\n",
       "      <td>1209</td>\n",
       "      <td>1209</td>\n",
       "      <td>1209</td>\n",
       "      <td>1209</td>\n",
       "      <td>1209</td>\n",
       "    </tr>\n",
       "  </tbody>\n",
       "</table>\n",
       "</div>"
      ],
      "text/plain": [
       "   Year  Company/Brand  Industry  Series  Amount($)  What it does  City  \\\n",
       "0  2018            369       369     369        369           369   369   \n",
       "1  2019             89         0      89         89            89    89   \n",
       "2  2020            958         0       0        958           958   958   \n",
       "3  2021           1209         0       0       1209          1209     0   \n",
       "\n",
       "   Sub city  Sector  Founded  Founders  Investor  Stage  HeadQuarter  \n",
       "0       369     369        0         0         0      0            0  \n",
       "1         0      89       89        89        89      0            0  \n",
       "2         0     958      958       958       958    958            0  \n",
       "3         0    1209     1209      1209      1209   1209         1209  "
      ]
     },
     "execution_count": 36,
     "metadata": {},
     "output_type": "execute_result"
    }
   ],
   "source": [
    "num_startup"
   ]
  },
  {
   "cell_type": "code",
   "execution_count": null,
   "id": "5201d2b0",
   "metadata": {},
   "outputs": [],
   "source": []
  },
  {
   "cell_type": "code",
   "execution_count": 37,
   "id": "cd45712a",
   "metadata": {},
   "outputs": [],
   "source": [
    "num_startup = num_startup.sort_values(by=\"Year\", ascending=True)"
   ]
  },
  {
   "cell_type": "code",
   "execution_count": 38,
   "id": "11434015",
   "metadata": {},
   "outputs": [
    {
     "data": {
      "text/html": [
       "<div>\n",
       "<style scoped>\n",
       "    .dataframe tbody tr th:only-of-type {\n",
       "        vertical-align: middle;\n",
       "    }\n",
       "\n",
       "    .dataframe tbody tr th {\n",
       "        vertical-align: top;\n",
       "    }\n",
       "\n",
       "    .dataframe thead th {\n",
       "        text-align: right;\n",
       "    }\n",
       "</style>\n",
       "<table border=\"1\" class=\"dataframe\">\n",
       "  <thead>\n",
       "    <tr style=\"text-align: right;\">\n",
       "      <th></th>\n",
       "      <th>Year</th>\n",
       "      <th>Company/Brand</th>\n",
       "      <th>Industry</th>\n",
       "      <th>Series</th>\n",
       "      <th>Amount($)</th>\n",
       "      <th>What it does</th>\n",
       "      <th>City</th>\n",
       "      <th>Sub city</th>\n",
       "      <th>Sector</th>\n",
       "      <th>Founded</th>\n",
       "      <th>Founders</th>\n",
       "      <th>Investor</th>\n",
       "      <th>Stage</th>\n",
       "      <th>HeadQuarter</th>\n",
       "    </tr>\n",
       "  </thead>\n",
       "  <tbody>\n",
       "    <tr>\n",
       "      <th>0</th>\n",
       "      <td>2018</td>\n",
       "      <td>369</td>\n",
       "      <td>369</td>\n",
       "      <td>369</td>\n",
       "      <td>369</td>\n",
       "      <td>369</td>\n",
       "      <td>369</td>\n",
       "      <td>369</td>\n",
       "      <td>369</td>\n",
       "      <td>0</td>\n",
       "      <td>0</td>\n",
       "      <td>0</td>\n",
       "      <td>0</td>\n",
       "      <td>0</td>\n",
       "    </tr>\n",
       "    <tr>\n",
       "      <th>1</th>\n",
       "      <td>2019</td>\n",
       "      <td>89</td>\n",
       "      <td>0</td>\n",
       "      <td>89</td>\n",
       "      <td>89</td>\n",
       "      <td>89</td>\n",
       "      <td>89</td>\n",
       "      <td>0</td>\n",
       "      <td>89</td>\n",
       "      <td>89</td>\n",
       "      <td>89</td>\n",
       "      <td>89</td>\n",
       "      <td>0</td>\n",
       "      <td>0</td>\n",
       "    </tr>\n",
       "    <tr>\n",
       "      <th>2</th>\n",
       "      <td>2020</td>\n",
       "      <td>958</td>\n",
       "      <td>0</td>\n",
       "      <td>0</td>\n",
       "      <td>958</td>\n",
       "      <td>958</td>\n",
       "      <td>958</td>\n",
       "      <td>0</td>\n",
       "      <td>958</td>\n",
       "      <td>958</td>\n",
       "      <td>958</td>\n",
       "      <td>958</td>\n",
       "      <td>958</td>\n",
       "      <td>0</td>\n",
       "    </tr>\n",
       "    <tr>\n",
       "      <th>3</th>\n",
       "      <td>2021</td>\n",
       "      <td>1209</td>\n",
       "      <td>0</td>\n",
       "      <td>0</td>\n",
       "      <td>1209</td>\n",
       "      <td>1209</td>\n",
       "      <td>0</td>\n",
       "      <td>0</td>\n",
       "      <td>1209</td>\n",
       "      <td>1209</td>\n",
       "      <td>1209</td>\n",
       "      <td>1209</td>\n",
       "      <td>1209</td>\n",
       "      <td>1209</td>\n",
       "    </tr>\n",
       "  </tbody>\n",
       "</table>\n",
       "</div>"
      ],
      "text/plain": [
       "   Year  Company/Brand  Industry  Series  Amount($)  What it does  City  \\\n",
       "0  2018            369       369     369        369           369   369   \n",
       "1  2019             89         0      89         89            89    89   \n",
       "2  2020            958         0       0        958           958   958   \n",
       "3  2021           1209         0       0       1209          1209     0   \n",
       "\n",
       "   Sub city  Sector  Founded  Founders  Investor  Stage  HeadQuarter  \n",
       "0       369     369        0         0         0      0            0  \n",
       "1         0      89       89        89        89      0            0  \n",
       "2         0     958      958       958       958    958            0  \n",
       "3         0    1209     1209      1209      1209   1209         1209  "
      ]
     },
     "execution_count": 38,
     "metadata": {},
     "output_type": "execute_result"
    }
   ],
   "source": [
    "num_startup"
   ]
  },
  {
   "cell_type": "code",
   "execution_count": 39,
   "id": "4af35bae",
   "metadata": {},
   "outputs": [
    {
     "data": {
      "image/png": "[encoded data removed]",
      "text/plain": [
       "<Figure size 576x360 with 1 Axes>"
      ]
     },
     "metadata": {},
     "output_type": "display_data"
    }
   ],
   "source": [
    "plt.figure(figsize=(8,5))\n",
    "plt.title(\"Number of startup by each year\")\n",
    "fig = sns.barplot(x = \"Year\", data = num_startup, y = \"Company/Brand\", hue=\"Year\")\n",
    "\n",
    "fig.set(xlabel=\"Year\", ylabel=\"Company\")\n",
    "for i in fig.containers:\n",
    "    fig.bar_label(i,)\n",
    "plt.show()"
   ]
  },
  {
   "cell_type": "markdown",
   "id": "49930e05",
   "metadata": {},
   "source": [
    "Standing from the above graph the number of start-ups decreased from 2018 to 2019, and then increased in 2020 before a further increase in 2021"
   ]
  },
  {
   "cell_type": "markdown",
   "id": "c8c6c72d",
   "metadata": {},
   "source": [
    "### Which sector have the highest number of start-ups?\n"
   ]
  },
  {
   "cell_type": "code",
   "execution_count": 40,
   "id": "75f828bb",
   "metadata": {},
   "outputs": [
    {
     "data": {
      "text/plain": [
       "Index(['Company/Brand', 'Industry', 'Series', 'Amount($)', 'What it does',\n",
       "       'City', 'Sub city', 'Sector', 'Year', 'Founded', 'Founders', 'Investor',\n",
       "       'Stage', 'HeadQuarter'],\n",
       "      dtype='object')"
      ]
     },
     "execution_count": 40,
     "metadata": {},
     "output_type": "execute_result"
    }
   ],
   "source": [
    "df_main.columns"
   ]
  },
  {
   "cell_type": "code",
   "execution_count": 41,
   "id": "3b6b3744",
   "metadata": {},
   "outputs": [],
   "source": [
    "df_main[\"Sector\"] = df_main[\"Sector\"].replace('Fintech', \"FinTech\")\n",
    "df_main[\"Sector\"] = df_main[\"Sector\"].replace('Edtech', \"EdTech\")"
   ]
  },
  {
   "cell_type": "code",
   "execution_count": 42,
   "id": "44d10565",
   "metadata": {},
   "outputs": [],
   "source": [
    "b = df_main.groupby(\"Sector\").count().reset_index()\n",
    "b = b.sort_values(by=\"Company/Brand\", ascending=False)\n",
    "b = b.head(10)\n"
   ]
  },
  {
   "cell_type": "code",
   "execution_count": 43,
   "id": "22553d97",
   "metadata": {},
   "outputs": [
    {
     "data": {
      "image/png": "[encoded data removed]",
      "text/plain": [
       "<Figure size 864x576 with 1 Axes>"
      ]
     },
     "metadata": {},
     "output_type": "display_data"
    }
   ],
   "source": [
    "plt.figure(figsize=(12,8))\n",
    "plt.title(\"Top 10 Sectors with highest number of startups\")\n",
    "fig = sns.barplot(y = \"Sector\", data = b, x = \"Company/Brand\", hue=\"Sector\")\n",
    "\n",
    "fig.set(xlabel=\"Number\", ylabel=\"Sector\")\n",
    "for i in fig.containers:\n",
    "    fig.bar_label(i,)\n",
    "plt.show()"
   ]
  },
  {
   "cell_type": "code",
   "execution_count": 44,
   "id": "cf30a519",
   "metadata": {},
   "outputs": [],
   "source": [
    "b = df_main.groupby(\"Sector\").count().reset_index()\n",
    "b = b.sort_values(by=\"Company/Brand\", ascending=False)"
   ]
  },
  {
   "cell_type": "code",
   "execution_count": 45,
   "id": "7de0b0c0",
   "metadata": {},
   "outputs": [
    {
     "data": {
      "text/html": [
       "<div>\n",
       "<style scoped>\n",
       "    .dataframe tbody tr th:only-of-type {\n",
       "        vertical-align: middle;\n",
       "    }\n",
       "\n",
       "    .dataframe tbody tr th {\n",
       "        vertical-align: top;\n",
       "    }\n",
       "\n",
       "    .dataframe thead th {\n",
       "        text-align: right;\n",
       "    }\n",
       "</style>\n",
       "<table border=\"1\" class=\"dataframe\">\n",
       "  <thead>\n",
       "    <tr style=\"text-align: right;\">\n",
       "      <th></th>\n",
       "      <th>Company/Brand</th>\n",
       "      <th>Industry</th>\n",
       "      <th>Series</th>\n",
       "      <th>Amount($)</th>\n",
       "      <th>What it does</th>\n",
       "      <th>City</th>\n",
       "      <th>Sub city</th>\n",
       "      <th>Year</th>\n",
       "      <th>Founded</th>\n",
       "      <th>Founders</th>\n",
       "      <th>Investor</th>\n",
       "      <th>Stage</th>\n",
       "      <th>HeadQuarter</th>\n",
       "    </tr>\n",
       "  </thead>\n",
       "  <tbody>\n",
       "    <tr>\n",
       "      <th>count</th>\n",
       "      <td>794.000000</td>\n",
       "      <td>794.000000</td>\n",
       "      <td>794.000000</td>\n",
       "      <td>794.000000</td>\n",
       "      <td>794.000000</td>\n",
       "      <td>794.000000</td>\n",
       "      <td>794.000000</td>\n",
       "      <td>794.000000</td>\n",
       "      <td>794.000000</td>\n",
       "      <td>794.000000</td>\n",
       "      <td>794.000000</td>\n",
       "      <td>794.000000</td>\n",
       "      <td>794.000000</td>\n",
       "    </tr>\n",
       "    <tr>\n",
       "      <th>mean</th>\n",
       "      <td>3.306045</td>\n",
       "      <td>0.464736</td>\n",
       "      <td>0.576826</td>\n",
       "      <td>3.306045</td>\n",
       "      <td>3.306045</td>\n",
       "      <td>1.783375</td>\n",
       "      <td>0.464736</td>\n",
       "      <td>3.306045</td>\n",
       "      <td>2.841310</td>\n",
       "      <td>2.841310</td>\n",
       "      <td>2.841310</td>\n",
       "      <td>2.729219</td>\n",
       "      <td>1.522670</td>\n",
       "    </tr>\n",
       "    <tr>\n",
       "      <th>std</th>\n",
       "      <td>12.768115</td>\n",
       "      <td>0.715098</td>\n",
       "      <td>0.885510</td>\n",
       "      <td>12.768115</td>\n",
       "      <td>12.768115</td>\n",
       "      <td>6.440996</td>\n",
       "      <td>0.715098</td>\n",
       "      <td>12.768115</td>\n",
       "      <td>12.851367</td>\n",
       "      <td>12.851367</td>\n",
       "      <td>12.851367</td>\n",
       "      <td>12.421597</td>\n",
       "      <td>7.079987</td>\n",
       "    </tr>\n",
       "    <tr>\n",
       "      <th>min</th>\n",
       "      <td>1.000000</td>\n",
       "      <td>0.000000</td>\n",
       "      <td>0.000000</td>\n",
       "      <td>1.000000</td>\n",
       "      <td>1.000000</td>\n",
       "      <td>0.000000</td>\n",
       "      <td>0.000000</td>\n",
       "      <td>1.000000</td>\n",
       "      <td>0.000000</td>\n",
       "      <td>0.000000</td>\n",
       "      <td>0.000000</td>\n",
       "      <td>0.000000</td>\n",
       "      <td>0.000000</td>\n",
       "    </tr>\n",
       "    <tr>\n",
       "      <th>25%</th>\n",
       "      <td>1.000000</td>\n",
       "      <td>0.000000</td>\n",
       "      <td>0.000000</td>\n",
       "      <td>1.000000</td>\n",
       "      <td>1.000000</td>\n",
       "      <td>1.000000</td>\n",
       "      <td>0.000000</td>\n",
       "      <td>1.000000</td>\n",
       "      <td>0.000000</td>\n",
       "      <td>0.000000</td>\n",
       "      <td>0.000000</td>\n",
       "      <td>0.000000</td>\n",
       "      <td>0.000000</td>\n",
       "    </tr>\n",
       "    <tr>\n",
       "      <th>50%</th>\n",
       "      <td>1.000000</td>\n",
       "      <td>0.000000</td>\n",
       "      <td>0.000000</td>\n",
       "      <td>1.000000</td>\n",
       "      <td>1.000000</td>\n",
       "      <td>1.000000</td>\n",
       "      <td>0.000000</td>\n",
       "      <td>1.000000</td>\n",
       "      <td>1.000000</td>\n",
       "      <td>1.000000</td>\n",
       "      <td>1.000000</td>\n",
       "      <td>1.000000</td>\n",
       "      <td>0.000000</td>\n",
       "    </tr>\n",
       "    <tr>\n",
       "      <th>75%</th>\n",
       "      <td>2.000000</td>\n",
       "      <td>1.000000</td>\n",
       "      <td>1.000000</td>\n",
       "      <td>2.000000</td>\n",
       "      <td>2.000000</td>\n",
       "      <td>1.000000</td>\n",
       "      <td>1.000000</td>\n",
       "      <td>2.000000</td>\n",
       "      <td>2.000000</td>\n",
       "      <td>2.000000</td>\n",
       "      <td>2.000000</td>\n",
       "      <td>1.000000</td>\n",
       "      <td>1.000000</td>\n",
       "    </tr>\n",
       "    <tr>\n",
       "      <th>max</th>\n",
       "      <td>246.000000</td>\n",
       "      <td>6.000000</td>\n",
       "      <td>12.000000</td>\n",
       "      <td>246.000000</td>\n",
       "      <td>246.000000</td>\n",
       "      <td>124.000000</td>\n",
       "      <td>6.000000</td>\n",
       "      <td>246.000000</td>\n",
       "      <td>246.000000</td>\n",
       "      <td>246.000000</td>\n",
       "      <td>246.000000</td>\n",
       "      <td>241.000000</td>\n",
       "      <td>122.000000</td>\n",
       "    </tr>\n",
       "  </tbody>\n",
       "</table>\n",
       "</div>"
      ],
      "text/plain": [
       "       Company/Brand    Industry      Series   Amount($)  What it does  \\\n",
       "count     794.000000  794.000000  794.000000  794.000000    794.000000   \n",
       "mean        3.306045    0.464736    0.576826    3.306045      3.306045   \n",
       "std        12.768115    0.715098    0.885510   12.768115     12.768115   \n",
       "min         1.000000    0.000000    0.000000    1.000000      1.000000   \n",
       "25%         1.000000    0.000000    0.000000    1.000000      1.000000   \n",
       "50%         1.000000    0.000000    0.000000    1.000000      1.000000   \n",
       "75%         2.000000    1.000000    1.000000    2.000000      2.000000   \n",
       "max       246.000000    6.000000   12.000000  246.000000    246.000000   \n",
       "\n",
       "             City    Sub city        Year     Founded    Founders    Investor  \\\n",
       "count  794.000000  794.000000  794.000000  794.000000  794.000000  794.000000   \n",
       "mean     1.783375    0.464736    3.306045    2.841310    2.841310    2.841310   \n",
       "std      6.440996    0.715098   12.768115   12.851367   12.851367   12.851367   \n",
       "min      0.000000    0.000000    1.000000    0.000000    0.000000    0.000000   \n",
       "25%      1.000000    0.000000    1.000000    0.000000    0.000000    0.000000   \n",
       "50%      1.000000    0.000000    1.000000    1.000000    1.000000    1.000000   \n",
       "75%      1.000000    1.000000    2.000000    2.000000    2.000000    2.000000   \n",
       "max    124.000000    6.000000  246.000000  246.000000  246.000000  246.000000   \n",
       "\n",
       "            Stage  HeadQuarter  \n",
       "count  794.000000   794.000000  \n",
       "mean     2.729219     1.522670  \n",
       "std     12.421597     7.079987  \n",
       "min      0.000000     0.000000  \n",
       "25%      0.000000     0.000000  \n",
       "50%      1.000000     0.000000  \n",
       "75%      1.000000     1.000000  \n",
       "max    241.000000   122.000000  "
      ]
     },
     "execution_count": 45,
     "metadata": {},
     "output_type": "execute_result"
    }
   ],
   "source": [
    "b.describe()"
   ]
  },
  {
   "cell_type": "markdown",
   "id": "6c8b5774",
   "metadata": {},
   "source": [
    "Describtion for the above chart"
   ]
  },
  {
   "cell_type": "code",
   "execution_count": 46,
   "id": "f22abd8e",
   "metadata": {},
   "outputs": [
    {
     "data": {
      "text/plain": [
       "43.35664335664335"
      ]
     },
     "execution_count": 46,
     "metadata": {},
     "output_type": "execute_result"
    }
   ],
   "source": [
    "fintech = (248 / 572) * 100\n",
    "fintech"
   ]
  },
  {
   "cell_type": "code",
   "execution_count": 47,
   "id": "7fa2c761",
   "metadata": {},
   "outputs": [
    {
     "data": {
      "text/plain": [
       "37.58741258741259"
      ]
     },
     "execution_count": 47,
     "metadata": {},
     "output_type": "execute_result"
    }
   ],
   "source": [
    "edtech = (215 / 572) * 100\n",
    "edtech"
   ]
  },
  {
   "cell_type": "code",
   "execution_count": 48,
   "id": "f8fb651c",
   "metadata": {},
   "outputs": [],
   "source": [
    "b = df_main.groupby(\"Sector\").count().reset_index()\n",
    "b = b.sort_values(by=\"Company/Brand\", ascending=False)\n",
    "b = b.head(10)\n"
   ]
  },
  {
   "cell_type": "code",
   "execution_count": null,
   "id": "018139f7",
   "metadata": {},
   "outputs": [],
   "source": []
  },
  {
   "cell_type": "code",
   "execution_count": 49,
   "id": "da4eb598",
   "metadata": {},
   "outputs": [
    {
     "data": {
      "text/plain": [
       "2625"
      ]
     },
     "execution_count": 49,
     "metadata": {},
     "output_type": "execute_result"
    }
   ],
   "source": [
    "# total number for all the sector\n",
    "b = df_main.groupby(\"Sector\").count().reset_index()\n",
    "b = b.sort_values(by=\"Company/Brand\", ascending=False)\n",
    "total_sec = b[\"Company/Brand\"].sum()\n",
    "total_sec"
   ]
  },
  {
   "cell_type": "code",
   "execution_count": null,
   "id": "5ec71c46",
   "metadata": {},
   "outputs": [],
   "source": []
  },
  {
   "cell_type": "code",
   "execution_count": 50,
   "id": "5e43d3ef",
   "metadata": {},
   "outputs": [
    {
     "data": {
      "text/plain": [
       "812"
      ]
     },
     "execution_count": 50,
     "metadata": {},
     "output_type": "execute_result"
    }
   ],
   "source": [
    "# total number for all the top 10\n",
    "b = df_main.groupby(\"Sector\").count().reset_index()\n",
    "b = b.sort_values(by=\"Company/Brand\", ascending=False)\n",
    "b = b.head(10)\n",
    "\n",
    "\n",
    "# total number for top 10\n",
    "total_top_10 = b[\"Company/Brand\"].sum()\n",
    "total_top_10"
   ]
  },
  {
   "cell_type": "code",
   "execution_count": 51,
   "id": "d505e6d9",
   "metadata": {},
   "outputs": [],
   "source": [
    "perc = (total_top_10 / total_sec) * 100"
   ]
  },
  {
   "cell_type": "code",
   "execution_count": 52,
   "id": "8ee6b284",
   "metadata": {},
   "outputs": [
    {
     "data": {
      "text/plain": [
       "30.933333333333334"
      ]
     },
     "execution_count": 52,
     "metadata": {},
     "output_type": "execute_result"
    }
   ],
   "source": [
    "perc"
   ]
  },
  {
   "cell_type": "markdown",
   "id": "c5f10899",
   "metadata": {},
   "source": [
    "From the chart, the top 10 sectors (Fintech, Edtech...) which have the highest number of start-ups consist of 31% of all startups. Among them Fintech and Edtech dominated with 31% of all startups "
   ]
  },
  {
   "cell_type": "markdown",
   "id": "ba980e33",
   "metadata": {},
   "source": [
    "### What is the average funding amount for Indian start-ups?"
   ]
  },
  {
   "cell_type": "code",
   "execution_count": 53,
   "id": "5ff3af6f",
   "metadata": {},
   "outputs": [],
   "source": [
    "av_amount = df_main[\"Amount($)\"].mean()"
   ]
  },
  {
   "cell_type": "code",
   "execution_count": 54,
   "id": "cc525b0e",
   "metadata": {},
   "outputs": [
    {
     "name": "stdout",
     "output_type": "stream",
     "text": [
      "The average values for indian startup is 126381669.92 $.\n"
     ]
    }
   ],
   "source": [
    "print(\"The average values for indian startup is\",round(av_amount,2),\"$.\")"
   ]
  },
  {
   "cell_type": "markdown",
   "id": "843ff80d",
   "metadata": {},
   "source": [
    "### Are there any correlations between headquarters location and share of funding?"
   ]
  },
  {
   "cell_type": "code",
   "execution_count": 78,
   "id": "2dbf6c0d",
   "metadata": {},
   "outputs": [
    {
     "data": {
      "image/png": "[encoded data removed]",
      "text/plain": [
       "<Figure size 720x432 with 1 Axes>"
      ]
     },
     "metadata": {},
     "output_type": "display_data"
    }
   ],
   "source": [
    "# Calculate the average amount for each city\n",
    "avg_amount = df_main.groupby('City')['Amount($)'].mean().round(2).reset_index()\n",
    "\n",
    "# Sort the cities based on the average amount in descending order and select the top 5\n",
    "top_cities2 = avg_amount.sort_values(by='Amount($)', ascending=False).head(5)\n",
    "\n",
    "# Plot the chart\n",
    "plt.figure(figsize=(10, 6))\n",
    "barplot = sns.barplot(x='City', y='Amount($)', data=top_cities2, palette='viridis')\n",
    "plt.title('Top Cities with Highest Average Funding Amount')\n",
    "plt.xlabel('City')\n",
    "plt.ylabel('Average Funding Amount($)')\n",
    "plt.xticks(rotation=45)\n",
    "# Add data labels to the bars\n",
    "for i, val in enumerate(top_cities2['Amount($)']):\n",
    "    barplot.text(i, val, str(val), ha='center', va='bottom')\n",
    "\n",
    "plt.tight_layout()\n",
    "plt.show()"
   ]
  },
  {
   "cell_type": "markdown",
   "id": "9927c539",
   "metadata": {},
   "source": [
    "## With this we know that Startups in California are likely to get higher funding than others"
   ]
  },
  {
   "cell_type": "code",
   "execution_count": 81,
   "id": "e8e4f371",
   "metadata": {},
   "outputs": [
    {
     "data": {
      "text/html": [
       "<div>\n",
       "<style scoped>\n",
       "    .dataframe tbody tr th:only-of-type {\n",
       "        vertical-align: middle;\n",
       "    }\n",
       "\n",
       "    .dataframe tbody tr th {\n",
       "        vertical-align: top;\n",
       "    }\n",
       "\n",
       "    .dataframe thead th {\n",
       "        text-align: right;\n",
       "    }\n",
       "</style>\n",
       "<table border=\"1\" class=\"dataframe\">\n",
       "  <thead>\n",
       "    <tr style=\"text-align: right;\">\n",
       "      <th></th>\n",
       "      <th>City</th>\n",
       "      <th>Amount($)</th>\n",
       "    </tr>\n",
       "  </thead>\n",
       "  <tbody>\n",
       "    <tr>\n",
       "      <th>13</th>\n",
       "      <td>California</td>\n",
       "      <td>6.180487e+08</td>\n",
       "    </tr>\n",
       "    <tr>\n",
       "      <th>79</th>\n",
       "      <td>Shanghai</td>\n",
       "      <td>4.000000e+08</td>\n",
       "    </tr>\n",
       "    <tr>\n",
       "      <th>52</th>\n",
       "      <td>Mumbai</td>\n",
       "      <td>3.879286e+08</td>\n",
       "    </tr>\n",
       "    <tr>\n",
       "      <th>33</th>\n",
       "      <td>Jaipur</td>\n",
       "      <td>3.436635e+08</td>\n",
       "    </tr>\n",
       "    <tr>\n",
       "      <th>35</th>\n",
       "      <td>Jiaxing</td>\n",
       "      <td>1.760000e+08</td>\n",
       "    </tr>\n",
       "  </tbody>\n",
       "</table>\n",
       "</div>"
      ],
      "text/plain": [
       "          City     Amount($)\n",
       "13  California  6.180487e+08\n",
       "79    Shanghai  4.000000e+08\n",
       "52      Mumbai  3.879286e+08\n",
       "33      Jaipur  3.436635e+08\n",
       "35     Jiaxing  1.760000e+08"
      ]
     },
     "execution_count": 81,
     "metadata": {},
     "output_type": "execute_result"
    }
   ],
   "source": [
    "top_cities2"
   ]
  },
  {
   "cell_type": "code",
   "execution_count": 82,
   "id": "bde97a6f",
   "metadata": {},
   "outputs": [],
   "source": [
    "df_main.to_excel('main.xlsx', index=False)"
   ]
  },
  {
   "cell_type": "code",
   "execution_count": null,
   "id": "66d0431e",
   "metadata": {},
   "outputs": [],
   "source": []
  }
 ],
 "metadata": {
  "kernelspec": {
   "display_name": "Python 3 (ipykernel)",
   "language": "python",
   "name": "python3"
  },
  "language_info": {
   "codemirror_mode": {
    "name": "ipython",
    "version": 3
   },
   "file_extension": ".py",
   "mimetype": "text/x-python",
   "name": "python",
   "nbconvert_exporter": "python",
   "pygments_lexer": "ipython3",
   "version": "3.9.7"
  }
 },
 "nbformat": 4,
 "nbformat_minor": 5
}
